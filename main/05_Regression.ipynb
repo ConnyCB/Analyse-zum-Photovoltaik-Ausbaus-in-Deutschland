{
 "cells": [
  {
   "cell_type": "code",
   "execution_count": 1,
   "id": "a448bf73-e83c-48e5-9429-6ffbbd7281ed",
   "metadata": {
    "tags": []
   },
   "outputs": [],
   "source": [
    "import numpy as np\n",
    "import pandas as pd\n",
    "import os\n",
    "import sqlite3\n",
    "import statsmodels.formula.api as smf\n",
    "import seaborn as sns\n",
    "import matplotlib.pyplot as plt\n",
    "import pickle\n",
    "plt.rc(\"axes.spines\", top=False, right=False)\n",
    "plt.rcParams['figure.figsize'] = [10, 6]\n",
    "plt.rcParams['figure.dpi'] = 100"
   ]
  },
  {
   "cell_type": "code",
   "execution_count": 2,
   "id": "43a342ea-6625-4594-a8e4-be68a1e525c6",
   "metadata": {
    "tags": []
   },
   "outputs": [],
   "source": [
    "DATA_DIR = '../output'"
   ]
  },
  {
   "cell_type": "markdown",
   "id": "7585833f-019d-4bc4-a62a-d3ff8e19d943",
   "metadata": {},
   "source": [
    "# Connect SQLite Data-Warehouse"
   ]
  },
  {
   "cell_type": "code",
   "execution_count": 3,
   "id": "c6c159ed-8006-4f05-b548-75926154e68d",
   "metadata": {
    "tags": []
   },
   "outputs": [],
   "source": [
    "# SQLite Datenbank Pfad \n",
    "SQLITE_FILE_PATH = os.path.join(\"..\", \"output\", \"dwh.sqlite3\")"
   ]
  },
  {
   "cell_type": "code",
   "execution_count": 4,
   "id": "dc53dafc-ac8f-4e7e-bb89-08039f616716",
   "metadata": {
    "tags": []
   },
   "outputs": [],
   "source": [
    "# Connection zur Datenbank \n",
    "con = sqlite3.connect(SQLITE_FILE_PATH)"
   ]
  },
  {
   "cell_type": "code",
   "execution_count": 5,
   "id": "d1bca194-4487-4438-8ba6-22e5fe822917",
   "metadata": {
    "tags": []
   },
   "outputs": [],
   "source": [
    "query_test = \"\"\"\n",
    "SELECT *\n",
    "FROM marktstammdaten\n",
    "\"\"\"\n",
    "#marktstammdaten = pd.read_sql_query(query_test, con=con)\n",
    "#marktstammdaten"
   ]
  },
  {
   "cell_type": "markdown",
   "id": "18bdc030-9f1c-4c0d-ba6b-313336680dd7",
   "metadata": {},
   "source": [
    "# OLS-Regression - Betrachtung einzelner Faktoren\n",
    "**Analyse möglicher Einflussfaktoren für den Solar-Ausbau**"
   ]
  },
  {
   "cell_type": "markdown",
   "id": "889060c5-dbd7-4699-9d7e-7a706e1647e1",
   "metadata": {},
   "source": [
    "## Bruttoinlandsprodukt BIP"
   ]
  },
  {
   "cell_type": "code",
   "execution_count": 6,
   "id": "323227c0-ff37-48fa-9d85-f4e9459f8527",
   "metadata": {
    "tags": []
   },
   "outputs": [
    {
     "data": {
      "text/html": [
       "<div>\n",
       "<style scoped>\n",
       "    .dataframe tbody tr th:only-of-type {\n",
       "        vertical-align: middle;\n",
       "    }\n",
       "\n",
       "    .dataframe tbody tr th {\n",
       "        vertical-align: top;\n",
       "    }\n",
       "\n",
       "    .dataframe thead th {\n",
       "        text-align: right;\n",
       "    }\n",
       "</style>\n",
       "<table border=\"1\" class=\"dataframe\">\n",
       "  <thead>\n",
       "    <tr style=\"text-align: right;\">\n",
       "      <th></th>\n",
       "      <th>AGS-5</th>\n",
       "      <th>Anzahl_PV_Anlagen</th>\n",
       "      <th>BIP</th>\n",
       "    </tr>\n",
       "  </thead>\n",
       "  <tbody>\n",
       "    <tr>\n",
       "      <th>0</th>\n",
       "      <td>01001</td>\n",
       "      <td>1252</td>\n",
       "      <td>63.55</td>\n",
       "    </tr>\n",
       "    <tr>\n",
       "      <th>1</th>\n",
       "      <td>01002</td>\n",
       "      <td>1970</td>\n",
       "      <td>68.26</td>\n",
       "    </tr>\n",
       "    <tr>\n",
       "      <th>2</th>\n",
       "      <td>01003</td>\n",
       "      <td>2565</td>\n",
       "      <td>72.59</td>\n",
       "    </tr>\n",
       "  </tbody>\n",
       "</table>\n",
       "</div>"
      ],
      "text/plain": [
       "   AGS-5  Anzahl_PV_Anlagen    BIP\n",
       "0  01001               1252  63.55\n",
       "1  01002               1970  68.26\n",
       "2  01003               2565  72.59"
      ]
     },
     "execution_count": 6,
     "metadata": {},
     "output_type": "execute_result"
    }
   ],
   "source": [
    "query_bip = \"\"\"\n",
    "SELECT m.[AGS-5], COUNT(m.[AGS-5]) AS Anzahl_PV_Anlagen, b.BIP\n",
    "FROM marktstammdaten AS m\n",
    "JOIN bip AS b\n",
    "ON m.[AGS-5] = b.[AGS-5]\n",
    "GROUP BY m.[AGS-5], b.BIP\n",
    "\"\"\"\n",
    "bip_df = pd.read_sql_query(query_bip, con=con)\n",
    "bip_df.head(3)"
   ]
  },
  {
   "cell_type": "code",
   "execution_count": 7,
   "id": "06e38318-cccb-4fff-b94d-9e5d2c57b53d",
   "metadata": {
    "tags": []
   },
   "outputs": [
    {
     "name": "stdout",
     "output_type": "stream",
     "text": [
      "                            OLS Regression Results                            \n",
      "==============================================================================\n",
      "Dep. Variable:      Anzahl_PV_Anlagen   R-squared:                       0.027\n",
      "Model:                            OLS   Adj. R-squared:                  0.024\n",
      "Method:                 Least Squares   F-statistic:                     10.87\n",
      "Date:                Fri, 19 Apr 2024   Prob (F-statistic):            0.00107\n",
      "Time:                        14:50:31   Log-Likelihood:                -4018.5\n",
      "No. Observations:                 400   AIC:                             8041.\n",
      "Df Residuals:                     398   BIC:                             8049.\n",
      "Df Model:                           1                                         \n",
      "Covariance Type:            nonrobust                                         \n",
      "==============================================================================\n",
      "                 coef    std err          t      P>|t|      [0.025      0.975]\n",
      "------------------------------------------------------------------------------\n",
      "Intercept   2206.1922   1759.349      1.254      0.211   -1252.587    5664.971\n",
      "BIP           81.3639     24.680      3.297      0.001      32.844     129.883\n",
      "==============================================================================\n",
      "Omnibus:                       85.744   Durbin-Watson:                   1.270\n",
      "Prob(Omnibus):                  0.000   Jarque-Bera (JB):              153.580\n",
      "Skew:                           1.212   Prob(JB):                     4.47e-34\n",
      "Kurtosis:                       4.827   Cond. No.                         448.\n",
      "==============================================================================\n",
      "\n",
      "Notes:\n",
      "[1] Standard Errors assume that the covariance matrix of the errors is correctly specified.\n"
     ]
    }
   ],
   "source": [
    "model = smf.ols(formula=\"Anzahl_PV_Anlagen ~ BIP\", data=bip_df)\n",
    "results = model.fit()\n",
    "print(results.summary())"
   ]
  },
  {
   "cell_type": "markdown",
   "id": "0da72bc6-a540-4380-927c-60f96fae30e4",
   "metadata": {},
   "source": [
    "## Entwicklung der Bevölkerungszahl"
   ]
  },
  {
   "cell_type": "code",
   "execution_count": 8,
   "id": "711b9cc4-049a-404d-8eef-447c09dbe784",
   "metadata": {
    "tags": []
   },
   "outputs": [
    {
     "data": {
      "text/html": [
       "<div>\n",
       "<style scoped>\n",
       "    .dataframe tbody tr th:only-of-type {\n",
       "        vertical-align: middle;\n",
       "    }\n",
       "\n",
       "    .dataframe tbody tr th {\n",
       "        vertical-align: top;\n",
       "    }\n",
       "\n",
       "    .dataframe thead th {\n",
       "        text-align: right;\n",
       "    }\n",
       "</style>\n",
       "<table border=\"1\" class=\"dataframe\">\n",
       "  <thead>\n",
       "    <tr style=\"text-align: right;\">\n",
       "      <th></th>\n",
       "      <th>AGS-8</th>\n",
       "      <th>Anzahl_PV_Anlagen</th>\n",
       "      <th>Bev_Entwicklung</th>\n",
       "    </tr>\n",
       "  </thead>\n",
       "  <tbody>\n",
       "    <tr>\n",
       "      <th>0</th>\n",
       "      <td>01001000</td>\n",
       "      <td>1252</td>\n",
       "      <td>0.84</td>\n",
       "    </tr>\n",
       "    <tr>\n",
       "      <th>1</th>\n",
       "      <td>01002000</td>\n",
       "      <td>1970</td>\n",
       "      <td>-0.10</td>\n",
       "    </tr>\n",
       "    <tr>\n",
       "      <th>2</th>\n",
       "      <td>01003000</td>\n",
       "      <td>2565</td>\n",
       "      <td>-0.04</td>\n",
       "    </tr>\n",
       "  </tbody>\n",
       "</table>\n",
       "</div>"
      ],
      "text/plain": [
       "      AGS-8  Anzahl_PV_Anlagen  Bev_Entwicklung\n",
       "0  01001000               1252             0.84\n",
       "1  01002000               1970            -0.10\n",
       "2  01003000               2565            -0.04"
      ]
     },
     "execution_count": 8,
     "metadata": {},
     "output_type": "execute_result"
    }
   ],
   "source": [
    "query_bevoelkerungsentwicklung = \"\"\"\n",
    "SELECT m.[AGS-8], COUNT(m.[AGS-8]) AS Anzahl_PV_Anlagen, b.[Bev_Entwicklung_%]\n",
    "FROM marktstammdaten AS m\n",
    "JOIN bevoelkerungsentwicklung AS b\n",
    "ON m.[AGS-8] = b.[AGS-8]\n",
    "GROUP BY m.[AGS-8], b.[Bev_Entwicklung_%]\n",
    "\"\"\"\n",
    "bevoelkerungsentwicklung_df = pd.read_sql_query(query_bevoelkerungsentwicklung, con=con)\n",
    "bevoelkerungsentwicklung_df.rename(columns={\"Bev_Entwicklung_%\": \"Bev_Entwicklung\"}, inplace=True)\n",
    "bevoelkerungsentwicklung_df.head(3)"
   ]
  },
  {
   "cell_type": "code",
   "execution_count": 9,
   "id": "918114d6-ccbf-45a7-8d1e-efb7d4645435",
   "metadata": {
    "tags": []
   },
   "outputs": [
    {
     "name": "stdout",
     "output_type": "stream",
     "text": [
      "                            OLS Regression Results                            \n",
      "==============================================================================\n",
      "Dep. Variable:      Anzahl_PV_Anlagen   R-squared:                       0.000\n",
      "Model:                            OLS   Adj. R-squared:                  0.000\n",
      "Method:                 Least Squares   F-statistic:                     3.352\n",
      "Date:                Fri, 19 Apr 2024   Prob (F-statistic):             0.0671\n",
      "Time:                        14:50:35   Log-Likelihood:                -85287.\n",
      "No. Observations:               11107   AIC:                         1.706e+05\n",
      "Df Residuals:                   11105   BIC:                         1.706e+05\n",
      "Df Model:                           1                                         \n",
      "Covariance Type:            nonrobust                                         \n",
      "===================================================================================\n",
      "                      coef    std err          t      P>|t|      [0.025      0.975]\n",
      "-----------------------------------------------------------------------------------\n",
      "Intercept         285.9606      4.966     57.580      0.000     276.226     295.696\n",
      "Bev_Entwicklung     0.0289      0.016      1.831      0.067      -0.002       0.060\n",
      "==============================================================================\n",
      "Omnibus:                    18288.074   Durbin-Watson:                   1.085\n",
      "Prob(Omnibus):                  0.000   Jarque-Bera (JB):         36073213.695\n",
      "Skew:                          10.590   Prob(JB):                         0.00\n",
      "Kurtosis:                     281.385   Cond. No.                         315.\n",
      "==============================================================================\n",
      "\n",
      "Notes:\n",
      "[1] Standard Errors assume that the covariance matrix of the errors is correctly specified.\n"
     ]
    }
   ],
   "source": [
    "model = smf.ols(formula=\"Anzahl_PV_Anlagen ~ Bev_Entwicklung\", data=bevoelkerungsentwicklung_df)\n",
    "results = model.fit()\n",
    "print(results.summary())"
   ]
  },
  {
   "cell_type": "markdown",
   "id": "88bb22a0-8cdd-43bc-82df-6c7c5513157b",
   "metadata": {},
   "source": [
    "## Bevölkerungsdichte"
   ]
  },
  {
   "cell_type": "code",
   "execution_count": 10,
   "id": "d6e0f001-42f5-4226-b5f4-ffdf7389d64b",
   "metadata": {
    "tags": []
   },
   "outputs": [
    {
     "data": {
      "text/html": [
       "<div>\n",
       "<style scoped>\n",
       "    .dataframe tbody tr th:only-of-type {\n",
       "        vertical-align: middle;\n",
       "    }\n",
       "\n",
       "    .dataframe tbody tr th {\n",
       "        vertical-align: top;\n",
       "    }\n",
       "\n",
       "    .dataframe thead th {\n",
       "        text-align: right;\n",
       "    }\n",
       "</style>\n",
       "<table border=\"1\" class=\"dataframe\">\n",
       "  <thead>\n",
       "    <tr style=\"text-align: right;\">\n",
       "      <th></th>\n",
       "      <th>AGS-5</th>\n",
       "      <th>Anzahl_PV_Anlagen</th>\n",
       "      <th>Bev_Dichte</th>\n",
       "    </tr>\n",
       "  </thead>\n",
       "  <tbody>\n",
       "    <tr>\n",
       "      <th>0</th>\n",
       "      <td>01001</td>\n",
       "      <td>1252</td>\n",
       "      <td>1606.0</td>\n",
       "    </tr>\n",
       "    <tr>\n",
       "      <th>1</th>\n",
       "      <td>01002</td>\n",
       "      <td>1970</td>\n",
       "      <td>2075.0</td>\n",
       "    </tr>\n",
       "    <tr>\n",
       "      <th>2</th>\n",
       "      <td>01003</td>\n",
       "      <td>2565</td>\n",
       "      <td>1010.0</td>\n",
       "    </tr>\n",
       "  </tbody>\n",
       "</table>\n",
       "</div>"
      ],
      "text/plain": [
       "   AGS-5  Anzahl_PV_Anlagen  Bev_Dichte\n",
       "0  01001               1252      1606.0\n",
       "1  01002               1970      2075.0\n",
       "2  01003               2565      1010.0"
      ]
     },
     "execution_count": 10,
     "metadata": {},
     "output_type": "execute_result"
    }
   ],
   "source": [
    "query_bevoelkerungsdichte = \"\"\"\n",
    "SELECT m.[AGS-5], COUNT(m.[AGS-5]) AS Anzahl_PV_Anlagen, b.[Bevölkerung pro km2]\n",
    "FROM marktstammdaten AS m\n",
    "JOIN bevoelkerungsdichte AS b\n",
    "ON m.[AGS-5] = b.[AGS-5]\n",
    "GROUP BY m.[AGS-5], b.[Bevölkerung pro km2]\n",
    "\"\"\"\n",
    "bevoelkerungsdichte_df = pd.read_sql_query(query_bevoelkerungsdichte, con=con)\n",
    "bevoelkerungsdichte_df.rename(columns={\"Bevölkerung pro km2\": \"Bev_Dichte\"}, inplace=True)\n",
    "bevoelkerungsdichte_df.head(3)"
   ]
  },
  {
   "cell_type": "code",
   "execution_count": 11,
   "id": "489df08c-6a41-443e-8384-100d04e8cb07",
   "metadata": {
    "tags": []
   },
   "outputs": [
    {
     "name": "stdout",
     "output_type": "stream",
     "text": [
      "                            OLS Regression Results                            \n",
      "==============================================================================\n",
      "Dep. Variable:      Anzahl_PV_Anlagen   R-squared:                       0.070\n",
      "Model:                            OLS   Adj. R-squared:                  0.068\n",
      "Method:                 Least Squares   F-statistic:                     30.18\n",
      "Date:                Fri, 19 Apr 2024   Prob (F-statistic):           7.04e-08\n",
      "Time:                        14:50:38   Log-Likelihood:                -4009.2\n",
      "No. Observations:                 400   AIC:                             8022.\n",
      "Df Residuals:                     398   BIC:                             8030.\n",
      "Df Model:                           1                                         \n",
      "Covariance Type:            nonrobust                                         \n",
      "==============================================================================\n",
      "                 coef    std err          t      P>|t|      [0.025      0.975]\n",
      "------------------------------------------------------------------------------\n",
      "Intercept   9070.9608    343.060     26.441      0.000    8396.524    9745.397\n",
      "Bev_Dichte    -2.1219      0.386     -5.494      0.000      -2.881      -1.363\n",
      "==============================================================================\n",
      "Omnibus:                      105.337   Durbin-Watson:                   1.295\n",
      "Prob(Omnibus):                  0.000   Jarque-Bera (JB):              214.175\n",
      "Skew:                           1.404   Prob(JB):                     3.11e-47\n",
      "Kurtosis:                       5.227   Cond. No.                     1.11e+03\n",
      "==============================================================================\n",
      "\n",
      "Notes:\n",
      "[1] Standard Errors assume that the covariance matrix of the errors is correctly specified.\n",
      "[2] The condition number is large, 1.11e+03. This might indicate that there are\n",
      "strong multicollinearity or other numerical problems.\n"
     ]
    }
   ],
   "source": [
    "model = smf.ols(formula=\"Anzahl_PV_Anlagen ~ Bev_Dichte\", data=bevoelkerungsdichte_df)\n",
    "results = model.fit()\n",
    "print(results.summary())"
   ]
  },
  {
   "cell_type": "markdown",
   "id": "32fb76d0-3522-4036-8b98-97e56deaf3ea",
   "metadata": {},
   "source": [
    "## Eigenheimquote"
   ]
  },
  {
   "cell_type": "code",
   "execution_count": 12,
   "id": "62d671ed-49ba-48a4-9e6d-991dbecab313",
   "metadata": {
    "tags": []
   },
   "outputs": [
    {
     "data": {
      "text/html": [
       "<div>\n",
       "<style scoped>\n",
       "    .dataframe tbody tr th:only-of-type {\n",
       "        vertical-align: middle;\n",
       "    }\n",
       "\n",
       "    .dataframe tbody tr th {\n",
       "        vertical-align: top;\n",
       "    }\n",
       "\n",
       "    .dataframe thead th {\n",
       "        text-align: right;\n",
       "    }\n",
       "</style>\n",
       "<table border=\"1\" class=\"dataframe\">\n",
       "  <thead>\n",
       "    <tr style=\"text-align: right;\">\n",
       "      <th></th>\n",
       "      <th>AGS-8</th>\n",
       "      <th>Anzahl_PV_Anlagen</th>\n",
       "      <th>Eigentumsquote</th>\n",
       "    </tr>\n",
       "  </thead>\n",
       "  <tbody>\n",
       "    <tr>\n",
       "      <th>0</th>\n",
       "      <td>01001000</td>\n",
       "      <td>1252</td>\n",
       "      <td>48.2</td>\n",
       "    </tr>\n",
       "    <tr>\n",
       "      <th>1</th>\n",
       "      <td>01002000</td>\n",
       "      <td>1970</td>\n",
       "      <td>44.6</td>\n",
       "    </tr>\n",
       "    <tr>\n",
       "      <th>2</th>\n",
       "      <td>01003000</td>\n",
       "      <td>2565</td>\n",
       "      <td>49.4</td>\n",
       "    </tr>\n",
       "  </tbody>\n",
       "</table>\n",
       "</div>"
      ],
      "text/plain": [
       "      AGS-8  Anzahl_PV_Anlagen  Eigentumsquote\n",
       "0  01001000               1252            48.2\n",
       "1  01002000               1970            44.6\n",
       "2  01003000               2565            49.4"
      ]
     },
     "execution_count": 12,
     "metadata": {},
     "output_type": "execute_result"
    }
   ],
   "source": [
    "query_wohneigentum = \"\"\"\n",
    "SELECT m.[AGS-8], COUNT(m.[AGS-8]) AS Anzahl_PV_Anlagen, e.[Eigentum_%]\n",
    "FROM marktstammdaten AS m\n",
    "JOIN eigenheimquote AS e\n",
    "ON m.[AGS-8] = e.[AGS-8]\n",
    "GROUP BY m.[AGS-8], e.[Eigentum_%]\n",
    "\"\"\"\n",
    "wohneigentum_df = pd.read_sql_query(query_wohneigentum, con=con)\n",
    "wohneigentum_df.rename(columns={\"Eigentum_%\": \"Eigentumsquote\"}, inplace=True)\n",
    "wohneigentum_df.head(3)"
   ]
  },
  {
   "cell_type": "code",
   "execution_count": 13,
   "id": "b237e124-aa9d-4d38-805d-01bc560e3d9f",
   "metadata": {
    "tags": []
   },
   "outputs": [
    {
     "name": "stdout",
     "output_type": "stream",
     "text": [
      "                            OLS Regression Results                            \n",
      "==============================================================================\n",
      "Dep. Variable:      Anzahl_PV_Anlagen   R-squared:                       0.080\n",
      "Model:                            OLS   Adj. R-squared:                  0.080\n",
      "Method:                 Least Squares   F-statistic:                     961.3\n",
      "Date:                Fri, 19 Apr 2024   Prob (F-statistic):          1.66e-202\n",
      "Time:                        14:50:42   Log-Likelihood:                -84828.\n",
      "No. Observations:               11107   AIC:                         1.697e+05\n",
      "Df Residuals:                   11105   BIC:                         1.697e+05\n",
      "Df Model:                           1                                         \n",
      "Covariance Type:            nonrobust                                         \n",
      "==================================================================================\n",
      "                     coef    std err          t      P>|t|      [0.025      0.975]\n",
      "----------------------------------------------------------------------------------\n",
      "Intercept       1054.0483     25.235     41.769      0.000    1004.583    1103.514\n",
      "Eigentumsquote    -9.6861      0.312    -31.006      0.000     -10.298      -9.074\n",
      "==============================================================================\n",
      "Omnibus:                    18280.357   Durbin-Watson:                   1.056\n",
      "Prob(Omnibus):                  0.000   Jarque-Bera (JB):         39799437.632\n",
      "Skew:                          10.535   Prob(JB):                         0.00\n",
      "Kurtosis:                     295.497   Cond. No.                         428.\n",
      "==============================================================================\n",
      "\n",
      "Notes:\n",
      "[1] Standard Errors assume that the covariance matrix of the errors is correctly specified.\n"
     ]
    }
   ],
   "source": [
    "model = smf.ols(formula=\"Anzahl_PV_Anlagen ~ Eigentumsquote\", data=wohneigentum_df)\n",
    "results = model.fit()\n",
    "print(results.summary())"
   ]
  },
  {
   "cell_type": "markdown",
   "id": "b202fa20-1873-4412-ae4c-1383b2dbc8c8",
   "metadata": {},
   "source": [
    "## \"Grüne\"-Wähler bei der Bundestagswahl 2021"
   ]
  },
  {
   "cell_type": "code",
   "execution_count": 14,
   "id": "53a8765b-1fb5-4bfd-af33-43666dabae00",
   "metadata": {
    "tags": []
   },
   "outputs": [
    {
     "data": {
      "text/html": [
       "<div>\n",
       "<style scoped>\n",
       "    .dataframe tbody tr th:only-of-type {\n",
       "        vertical-align: middle;\n",
       "    }\n",
       "\n",
       "    .dataframe tbody tr th {\n",
       "        vertical-align: top;\n",
       "    }\n",
       "\n",
       "    .dataframe thead th {\n",
       "        text-align: right;\n",
       "    }\n",
       "</style>\n",
       "<table border=\"1\" class=\"dataframe\">\n",
       "  <thead>\n",
       "    <tr style=\"text-align: right;\">\n",
       "      <th></th>\n",
       "      <th>AGS-8</th>\n",
       "      <th>Anzahl_PV_Anlagen</th>\n",
       "      <th>Gruene_Prozent</th>\n",
       "    </tr>\n",
       "  </thead>\n",
       "  <tbody>\n",
       "    <tr>\n",
       "      <th>0</th>\n",
       "      <td>01001000</td>\n",
       "      <td>1252</td>\n",
       "      <td>35.575106</td>\n",
       "    </tr>\n",
       "    <tr>\n",
       "      <th>1</th>\n",
       "      <td>01002000</td>\n",
       "      <td>1970</td>\n",
       "      <td>28.713637</td>\n",
       "    </tr>\n",
       "    <tr>\n",
       "      <th>2</th>\n",
       "      <td>01003000</td>\n",
       "      <td>2565</td>\n",
       "      <td>22.054262</td>\n",
       "    </tr>\n",
       "  </tbody>\n",
       "</table>\n",
       "</div>"
      ],
      "text/plain": [
       "      AGS-8  Anzahl_PV_Anlagen  Gruene_Prozent\n",
       "0  01001000               1252       35.575106\n",
       "1  01002000               1970       28.713637\n",
       "2  01003000               2565       22.054262"
      ]
     },
     "execution_count": 14,
     "metadata": {},
     "output_type": "execute_result"
    }
   ],
   "source": [
    "query_gruene = \"\"\"\n",
    "SELECT m.[AGS-8], COUNT(m.[AGS-8]) AS Anzahl_PV_Anlagen, AVG(w.[GRÜNE_Prozent]) AS Gruene_Prozent\n",
    "FROM marktstammdaten AS m\n",
    "JOIN bundestagswahlergenisse AS w\n",
    "ON m.[AGS-8] = w.[AGS-8]\n",
    "GROUP BY m.[AGS-8], w.[GRÜNE_Prozent]\n",
    "\"\"\"\n",
    "gruene_df = pd.read_sql_query(query_gruene, con=con)\n",
    "gruene_df.head(3)"
   ]
  },
  {
   "cell_type": "code",
   "execution_count": 15,
   "id": "14a29259-29c5-47de-8820-a57542b1c7f5",
   "metadata": {
    "tags": []
   },
   "outputs": [
    {
     "name": "stdout",
     "output_type": "stream",
     "text": [
      "                            OLS Regression Results                            \n",
      "==============================================================================\n",
      "Dep. Variable:      Anzahl_PV_Anlagen   R-squared:                       0.070\n",
      "Model:                            OLS   Adj. R-squared:                  0.070\n",
      "Method:                 Least Squares   F-statistic:                     841.4\n",
      "Date:                Fri, 19 Apr 2024   Prob (F-statistic):          2.21e-178\n",
      "Time:                        14:50:46   Log-Likelihood:                -84884.\n",
      "No. Observations:               11107   AIC:                         1.698e+05\n",
      "Df Residuals:                   11105   BIC:                         1.698e+05\n",
      "Df Model:                           1                                         \n",
      "Covariance Type:            nonrobust                                         \n",
      "==================================================================================\n",
      "                     coef    std err          t      P>|t|      [0.025      0.975]\n",
      "----------------------------------------------------------------------------------\n",
      "Intercept         57.4528      9.210      6.238      0.000      39.400      75.505\n",
      "Gruene_Prozent    25.5728      0.882     29.006      0.000      23.845      27.301\n",
      "==============================================================================\n",
      "Omnibus:                    18752.525   Durbin-Watson:                   1.121\n",
      "Prob(Omnibus):                  0.000   Jarque-Bera (JB):         47420751.519\n",
      "Skew:                          11.087   Prob(JB):                         0.00\n",
      "Kurtosis:                     322.335   Cond. No.                         20.2\n",
      "==============================================================================\n",
      "\n",
      "Notes:\n",
      "[1] Standard Errors assume that the covariance matrix of the errors is correctly specified.\n"
     ]
    }
   ],
   "source": [
    "model = smf.ols(formula=\"Anzahl_PV_Anlagen ~ Gruene_Prozent\", data=gruene_df)\n",
    "results = model.fit()\n",
    "print(results.summary())"
   ]
  },
  {
   "cell_type": "markdown",
   "id": "48c64ba4-253e-4782-92d8-bed5501e9ccf",
   "metadata": {},
   "source": [
    "## \"AFD\"-Wähler bei der Bundestagswahl 2021"
   ]
  },
  {
   "cell_type": "code",
   "execution_count": 16,
   "id": "bfbb90cc-6b5e-4dd5-8cb8-5862cde68073",
   "metadata": {
    "tags": []
   },
   "outputs": [
    {
     "data": {
      "text/html": [
       "<div>\n",
       "<style scoped>\n",
       "    .dataframe tbody tr th:only-of-type {\n",
       "        vertical-align: middle;\n",
       "    }\n",
       "\n",
       "    .dataframe tbody tr th {\n",
       "        vertical-align: top;\n",
       "    }\n",
       "\n",
       "    .dataframe thead th {\n",
       "        text-align: right;\n",
       "    }\n",
       "</style>\n",
       "<table border=\"1\" class=\"dataframe\">\n",
       "  <thead>\n",
       "    <tr style=\"text-align: right;\">\n",
       "      <th></th>\n",
       "      <th>AGS-8</th>\n",
       "      <th>Anzahl_PV_Anlagen</th>\n",
       "      <th>AFD_Prozent</th>\n",
       "    </tr>\n",
       "  </thead>\n",
       "  <tbody>\n",
       "    <tr>\n",
       "      <th>0</th>\n",
       "      <td>01001000</td>\n",
       "      <td>1252</td>\n",
       "      <td>5.276728</td>\n",
       "    </tr>\n",
       "    <tr>\n",
       "      <th>1</th>\n",
       "      <td>01002000</td>\n",
       "      <td>1970</td>\n",
       "      <td>4.696032</td>\n",
       "    </tr>\n",
       "    <tr>\n",
       "      <th>2</th>\n",
       "      <td>01003000</td>\n",
       "      <td>2565</td>\n",
       "      <td>6.434268</td>\n",
       "    </tr>\n",
       "  </tbody>\n",
       "</table>\n",
       "</div>"
      ],
      "text/plain": [
       "      AGS-8  Anzahl_PV_Anlagen  AFD_Prozent\n",
       "0  01001000               1252     5.276728\n",
       "1  01002000               1970     4.696032\n",
       "2  01003000               2565     6.434268"
      ]
     },
     "execution_count": 16,
     "metadata": {},
     "output_type": "execute_result"
    }
   ],
   "source": [
    "query_afd = \"\"\"\n",
    "SELECT m.[AGS-8], COUNT(m.[AGS-8]) AS Anzahl_PV_Anlagen, AVG(w.[AFD_Prozent]) AS AFD_Prozent\n",
    "FROM marktstammdaten AS m\n",
    "JOIN bundestagswahlergenisse AS w\n",
    "ON m.[AGS-8] = w.[AGS-8]\n",
    "GROUP BY m.[AGS-8], w.[AFD_Prozent]\n",
    "\"\"\"\n",
    "afd_df = pd.read_sql_query(query_afd, con=con)\n",
    "afd_df.head(3)"
   ]
  },
  {
   "cell_type": "code",
   "execution_count": 17,
   "id": "8052028f-baf6-48ae-8e3d-093390b2e5b8",
   "metadata": {
    "tags": []
   },
   "outputs": [
    {
     "name": "stdout",
     "output_type": "stream",
     "text": [
      "                            OLS Regression Results                            \n",
      "==============================================================================\n",
      "Dep. Variable:      Anzahl_PV_Anlagen   R-squared:                       0.036\n",
      "Model:                            OLS   Adj. R-squared:                  0.036\n",
      "Method:                 Least Squares   F-statistic:                     416.7\n",
      "Date:                Fri, 19 Apr 2024   Prob (F-statistic):           5.84e-91\n",
      "Time:                        14:50:49   Log-Likelihood:                -85085.\n",
      "No. Observations:               11107   AIC:                         1.702e+05\n",
      "Df Residuals:                   11105   BIC:                         1.702e+05\n",
      "Df Model:                           1                                         \n",
      "Covariance Type:            nonrobust                                         \n",
      "===============================================================================\n",
      "                  coef    std err          t      P>|t|      [0.025      0.975]\n",
      "-------------------------------------------------------------------------------\n",
      "Intercept     435.5569      8.813     49.424      0.000     418.282     452.831\n",
      "AFD_Prozent   -10.9396      0.536    -20.414      0.000     -11.990      -9.889\n",
      "==============================================================================\n",
      "Omnibus:                    18519.881   Durbin-Watson:                   1.119\n",
      "Prob(Omnibus):                  0.000   Jarque-Bera (JB):         40130622.352\n",
      "Skew:                          10.849   Prob(JB):                         0.00\n",
      "Kurtosis:                     296.672   Cond. No.                         29.8\n",
      "==============================================================================\n",
      "\n",
      "Notes:\n",
      "[1] Standard Errors assume that the covariance matrix of the errors is correctly specified.\n"
     ]
    }
   ],
   "source": [
    "model = smf.ols(formula=\"Anzahl_PV_Anlagen ~ AFD_Prozent\", data=afd_df)\n",
    "results = model.fit()\n",
    "print(results.summary())"
   ]
  },
  {
   "cell_type": "markdown",
   "id": "57b43424-935f-4c7f-bea1-68700f319ec5",
   "metadata": {},
   "source": [
    "## \"SPD\"-Wähler bei der Bundestagswahl 2021"
   ]
  },
  {
   "cell_type": "code",
   "execution_count": 18,
   "id": "21ef0491-80a8-42db-93dc-0fb948fd99a2",
   "metadata": {
    "tags": []
   },
   "outputs": [
    {
     "data": {
      "text/html": [
       "<div>\n",
       "<style scoped>\n",
       "    .dataframe tbody tr th:only-of-type {\n",
       "        vertical-align: middle;\n",
       "    }\n",
       "\n",
       "    .dataframe tbody tr th {\n",
       "        vertical-align: top;\n",
       "    }\n",
       "\n",
       "    .dataframe thead th {\n",
       "        text-align: right;\n",
       "    }\n",
       "</style>\n",
       "<table border=\"1\" class=\"dataframe\">\n",
       "  <thead>\n",
       "    <tr style=\"text-align: right;\">\n",
       "      <th></th>\n",
       "      <th>AGS-8</th>\n",
       "      <th>Anzahl_PV_Anlagen</th>\n",
       "      <th>SPD_Prozent</th>\n",
       "    </tr>\n",
       "  </thead>\n",
       "  <tbody>\n",
       "    <tr>\n",
       "      <th>0</th>\n",
       "      <td>01001000</td>\n",
       "      <td>1252</td>\n",
       "      <td>20.634546</td>\n",
       "    </tr>\n",
       "    <tr>\n",
       "      <th>1</th>\n",
       "      <td>01002000</td>\n",
       "      <td>1970</td>\n",
       "      <td>29.632519</td>\n",
       "    </tr>\n",
       "    <tr>\n",
       "      <th>2</th>\n",
       "      <td>01003000</td>\n",
       "      <td>2565</td>\n",
       "      <td>34.404717</td>\n",
       "    </tr>\n",
       "  </tbody>\n",
       "</table>\n",
       "</div>"
      ],
      "text/plain": [
       "      AGS-8  Anzahl_PV_Anlagen  SPD_Prozent\n",
       "0  01001000               1252    20.634546\n",
       "1  01002000               1970    29.632519\n",
       "2  01003000               2565    34.404717"
      ]
     },
     "execution_count": 18,
     "metadata": {},
     "output_type": "execute_result"
    }
   ],
   "source": [
    "query_spd = \"\"\"\n",
    "SELECT m.[AGS-8], COUNT(m.[AGS-8]) AS Anzahl_PV_Anlagen, AVG(w.[SPD_Prozent]) AS SPD_Prozent\n",
    "FROM marktstammdaten AS m\n",
    "JOIN bundestagswahlergenisse AS w\n",
    "ON m.[AGS-8] = w.[AGS-8]\n",
    "GROUP BY m.[AGS-8], w.[SPD_Prozent]\n",
    "\"\"\"\n",
    "spd_df = pd.read_sql_query(query_spd, con=con)\n",
    "spd_df.head(3)"
   ]
  },
  {
   "cell_type": "code",
   "execution_count": 19,
   "id": "15789711-3a13-48ad-a8c2-fcbd08335286",
   "metadata": {
    "tags": []
   },
   "outputs": [
    {
     "name": "stdout",
     "output_type": "stream",
     "text": [
      "                            OLS Regression Results                            \n",
      "==============================================================================\n",
      "Dep. Variable:      Anzahl_PV_Anlagen   R-squared:                       0.000\n",
      "Model:                            OLS   Adj. R-squared:                  0.000\n",
      "Method:                 Least Squares   F-statistic:                     1.024\n",
      "Date:                Fri, 19 Apr 2024   Prob (F-statistic):              0.312\n",
      "Time:                        14:50:53   Log-Likelihood:                -85289.\n",
      "No. Observations:               11107   AIC:                         1.706e+05\n",
      "Df Residuals:                   11105   BIC:                         1.706e+05\n",
      "Df Model:                           1                                         \n",
      "Covariance Type:            nonrobust                                         \n",
      "===============================================================================\n",
      "                  coef    std err          t      P>|t|      [0.025      0.975]\n",
      "-------------------------------------------------------------------------------\n",
      "Intercept     299.4195     14.459     20.708      0.000     271.077     327.762\n",
      "SPD_Prozent    -0.5620      0.555     -1.012      0.312      -1.651       0.527\n",
      "==============================================================================\n",
      "Omnibus:                    18291.195   Durbin-Watson:                   1.088\n",
      "Prob(Omnibus):                  0.000   Jarque-Bera (JB):         36073379.900\n",
      "Skew:                          10.594   Prob(JB):                         0.00\n",
      "Kurtosis:                     281.385   Cond. No.                         75.9\n",
      "==============================================================================\n",
      "\n",
      "Notes:\n",
      "[1] Standard Errors assume that the covariance matrix of the errors is correctly specified.\n"
     ]
    }
   ],
   "source": [
    "model = smf.ols(formula=\"Anzahl_PV_Anlagen ~ SPD_Prozent\", data=spd_df)\n",
    "results = model.fit()\n",
    "print(results.summary())"
   ]
  },
  {
   "cell_type": "markdown",
   "id": "fbec3036-5c1c-4aef-8110-b104007000e2",
   "metadata": {},
   "source": [
    "## Durchschnittliches verfügbares Einkommen (2005 bis 2020)"
   ]
  },
  {
   "cell_type": "code",
   "execution_count": 20,
   "id": "8a402901-df31-4f24-8a9c-d568f15a4a9d",
   "metadata": {
    "tags": []
   },
   "outputs": [
    {
     "data": {
      "text/html": [
       "<div>\n",
       "<style scoped>\n",
       "    .dataframe tbody tr th:only-of-type {\n",
       "        vertical-align: middle;\n",
       "    }\n",
       "\n",
       "    .dataframe tbody tr th {\n",
       "        vertical-align: top;\n",
       "    }\n",
       "\n",
       "    .dataframe thead th {\n",
       "        text-align: right;\n",
       "    }\n",
       "</style>\n",
       "<table border=\"1\" class=\"dataframe\">\n",
       "  <thead>\n",
       "    <tr style=\"text-align: right;\">\n",
       "      <th></th>\n",
       "      <th>AGS-5</th>\n",
       "      <th>Anzahl_PV_Anlagen</th>\n",
       "      <th>Durchschnitt_Einkommen</th>\n",
       "    </tr>\n",
       "  </thead>\n",
       "  <tbody>\n",
       "    <tr>\n",
       "      <th>0</th>\n",
       "      <td>01001</td>\n",
       "      <td>1252</td>\n",
       "      <td>17886.0</td>\n",
       "    </tr>\n",
       "    <tr>\n",
       "      <th>1</th>\n",
       "      <td>01002</td>\n",
       "      <td>1970</td>\n",
       "      <td>17739.0</td>\n",
       "    </tr>\n",
       "    <tr>\n",
       "      <th>2</th>\n",
       "      <td>01003</td>\n",
       "      <td>2565</td>\n",
       "      <td>18338.0</td>\n",
       "    </tr>\n",
       "  </tbody>\n",
       "</table>\n",
       "</div>"
      ],
      "text/plain": [
       "   AGS-5  Anzahl_PV_Anlagen  Durchschnitt_Einkommen\n",
       "0  01001               1252                 17886.0\n",
       "1  01002               1970                 17739.0\n",
       "2  01003               2565                 18338.0"
      ]
     },
     "execution_count": 20,
     "metadata": {},
     "output_type": "execute_result"
    }
   ],
   "source": [
    "query_einkommen = \"\"\"\n",
    "SELECT m.[AGS-5], COUNT(m.[AGS-5]) AS Anzahl_PV_Anlagen, \n",
    "AVG((haushaltseink_2005 + haushaltseink_2006 + haushaltseink_2007 + haushaltseink_2008 + haushaltseink_2009 + \n",
    "haushaltseink_2010 + haushaltseink_2011 + haushaltseink_2012 + haushaltseink_2013 + haushaltseink_2014 + \n",
    "haushaltseink_2015 + haushaltseink_2016 + haushaltseink_2017 + haushaltseink_2018 + haushaltseink_2019 + \n",
    "haushaltseink_2020) / 16) AS Durchschnitt_Einkommen\n",
    "FROM marktstammdaten AS m\n",
    "JOIN einkommensentwicklung AS e\n",
    "ON m.[AGS-5] = e.[AGS-5]\n",
    "GROUP BY m.[AGS-5]\n",
    "\"\"\"\n",
    "einkommen_df = pd.read_sql_query(query_einkommen, con=con)\n",
    "einkommen_df.head(3)"
   ]
  },
  {
   "cell_type": "code",
   "execution_count": 21,
   "id": "d1d20d9f-7023-4bbc-9e72-1ad46e3f8874",
   "metadata": {
    "tags": []
   },
   "outputs": [
    {
     "name": "stdout",
     "output_type": "stream",
     "text": [
      "                            OLS Regression Results                            \n",
      "==============================================================================\n",
      "Dep. Variable:      Anzahl_PV_Anlagen   R-squared:                       0.062\n",
      "Model:                            OLS   Adj. R-squared:                  0.060\n",
      "Method:                 Least Squares   F-statistic:                     26.38\n",
      "Date:                Fri, 19 Apr 2024   Prob (F-statistic):           4.40e-07\n",
      "Time:                        14:50:59   Log-Likelihood:                -4011.0\n",
      "No. Observations:                 400   AIC:                             8026.\n",
      "Df Residuals:                     398   BIC:                             8034.\n",
      "Df Model:                           1                                         \n",
      "Covariance Type:            nonrobust                                         \n",
      "==========================================================================================\n",
      "                             coef    std err          t      P>|t|      [0.025      0.975]\n",
      "------------------------------------------------------------------------------------------\n",
      "Intercept              -3887.0347   2317.569     -1.677      0.094   -8443.242     669.173\n",
      "Durchschnitt_Einkommen     0.5859      0.114      5.136      0.000       0.362       0.810\n",
      "==============================================================================\n",
      "Omnibus:                       94.257   Durbin-Watson:                   1.439\n",
      "Prob(Omnibus):                  0.000   Jarque-Bera (JB):              187.123\n",
      "Skew:                           1.265   Prob(JB):                     2.33e-41\n",
      "Kurtosis:                       5.198   Cond. No.                     1.71e+05\n",
      "==============================================================================\n",
      "\n",
      "Notes:\n",
      "[1] Standard Errors assume that the covariance matrix of the errors is correctly specified.\n",
      "[2] The condition number is large, 1.71e+05. This might indicate that there are\n",
      "strong multicollinearity or other numerical problems.\n"
     ]
    }
   ],
   "source": [
    "model = smf.ols(formula=\"Anzahl_PV_Anlagen ~ Durchschnitt_Einkommen\", data=einkommen_df)\n",
    "results = model.fit()\n",
    "print(results.summary())"
   ]
  },
  {
   "cell_type": "markdown",
   "id": "9f5b8b34-b2a0-4ea9-8a25-15daccc6a053",
   "metadata": {},
   "source": [
    "## Arbeitslosenquote (2022)"
   ]
  },
  {
   "cell_type": "code",
   "execution_count": 22,
   "id": "8e3c452a-9888-4dab-bc1f-d17dda8eaa6e",
   "metadata": {
    "tags": []
   },
   "outputs": [
    {
     "data": {
      "text/html": [
       "<div>\n",
       "<style scoped>\n",
       "    .dataframe tbody tr th:only-of-type {\n",
       "        vertical-align: middle;\n",
       "    }\n",
       "\n",
       "    .dataframe tbody tr th {\n",
       "        vertical-align: top;\n",
       "    }\n",
       "\n",
       "    .dataframe thead th {\n",
       "        text-align: right;\n",
       "    }\n",
       "</style>\n",
       "<table border=\"1\" class=\"dataframe\">\n",
       "  <thead>\n",
       "    <tr style=\"text-align: right;\">\n",
       "      <th></th>\n",
       "      <th>Bundesland</th>\n",
       "      <th>Anzahl_PV_Anlagen</th>\n",
       "      <th>Arbeitslosenquote</th>\n",
       "    </tr>\n",
       "  </thead>\n",
       "  <tbody>\n",
       "    <tr>\n",
       "      <th>0</th>\n",
       "      <td>Baden-Württemberg</td>\n",
       "      <td>545291</td>\n",
       "      <td>3.5</td>\n",
       "    </tr>\n",
       "    <tr>\n",
       "      <th>1</th>\n",
       "      <td>Bayern</td>\n",
       "      <td>844437</td>\n",
       "      <td>3.1</td>\n",
       "    </tr>\n",
       "    <tr>\n",
       "      <th>2</th>\n",
       "      <td>Berlin</td>\n",
       "      <td>21110</td>\n",
       "      <td>8.8</td>\n",
       "    </tr>\n",
       "  </tbody>\n",
       "</table>\n",
       "</div>"
      ],
      "text/plain": [
       "          Bundesland  Anzahl_PV_Anlagen  Arbeitslosenquote\n",
       "0  Baden-Württemberg             545291                3.5\n",
       "1             Bayern             844437                3.1\n",
       "2             Berlin              21110                8.8"
      ]
     },
     "execution_count": 22,
     "metadata": {},
     "output_type": "execute_result"
    }
   ],
   "source": [
    "query_arbeitslosenquote = \"\"\"\n",
    "SELECT m.[Bundesland], COUNT(m.[Bundesland]) AS Anzahl_PV_Anlagen, a.[Arbeitslosenquote_%] AS Arbeitslosenquote\n",
    "FROM marktstammdaten AS m\n",
    "JOIN arbeitslosenquote AS a\n",
    "ON m.[Bundesland] = a.[Bundesland]\n",
    "GROUP BY m.[Bundesland], a.[Arbeitslosenquote_%]\n",
    "\"\"\"\n",
    "arbeitslosenquote_df = pd.read_sql_query(query_arbeitslosenquote, con=con)\n",
    "arbeitslosenquote_df.head(3)"
   ]
  },
  {
   "cell_type": "code",
   "execution_count": 23,
   "id": "43cb50e5-6617-46a0-8013-a8dd1ddf402a",
   "metadata": {
    "tags": []
   },
   "outputs": [
    {
     "name": "stdout",
     "output_type": "stream",
     "text": [
      "                            OLS Regression Results                            \n",
      "==============================================================================\n",
      "Dep. Variable:      Anzahl_PV_Anlagen   R-squared:                       0.378\n",
      "Model:                            OLS   Adj. R-squared:                  0.334\n",
      "Method:                 Least Squares   F-statistic:                     8.521\n",
      "Date:                Fri, 19 Apr 2024   Prob (F-statistic):             0.0112\n",
      "Time:                        14:51:01   Log-Likelihood:                -216.94\n",
      "No. Observations:                  16   AIC:                             437.9\n",
      "Df Residuals:                      14   BIC:                             439.4\n",
      "Df Model:                           1                                         \n",
      "Covariance Type:            nonrobust                                         \n",
      "=====================================================================================\n",
      "                        coef    std err          t      P>|t|      [0.025      0.975]\n",
      "-------------------------------------------------------------------------------------\n",
      "Intercept          6.968e+05   1.78e+05      3.916      0.002    3.15e+05    1.08e+06\n",
      "Arbeitslosenquote -8.281e+04   2.84e+04     -2.919      0.011   -1.44e+05    -2.2e+04\n",
      "==============================================================================\n",
      "Omnibus:                        5.354   Durbin-Watson:                   1.545\n",
      "Prob(Omnibus):                  0.069   Jarque-Bera (JB):                3.423\n",
      "Skew:                           1.130   Prob(JB):                        0.181\n",
      "Kurtosis:                       3.159   Cond. No.                         22.8\n",
      "==============================================================================\n",
      "\n",
      "Notes:\n",
      "[1] Standard Errors assume that the covariance matrix of the errors is correctly specified.\n"
     ]
    },
    {
     "name": "stderr",
     "output_type": "stream",
     "text": [
      "C:\\Users\\Conny\\anaconda3\\envs\\geo_env\\Lib\\site-packages\\scipy\\stats\\_stats_py.py:1806: UserWarning: kurtosistest only valid for n>=20 ... continuing anyway, n=16\n",
      "  warnings.warn(\"kurtosistest only valid for n>=20 ... continuing \"\n"
     ]
    }
   ],
   "source": [
    "model = smf.ols(formula=\"Anzahl_PV_Anlagen ~ Arbeitslosenquote\", data=arbeitslosenquote_df)\n",
    "results = model.fit()\n",
    "print(results.summary())"
   ]
  },
  {
   "cell_type": "markdown",
   "id": "17d3bdc0-3d62-430f-857d-8aa6459a1eb9",
   "metadata": {},
   "source": [
    "## Ausländeranteil (2021)"
   ]
  },
  {
   "cell_type": "code",
   "execution_count": 24,
   "id": "e4ffaff8-c919-49ab-bb1a-26b81b45fa81",
   "metadata": {
    "tags": []
   },
   "outputs": [
    {
     "data": {
      "text/html": [
       "<div>\n",
       "<style scoped>\n",
       "    .dataframe tbody tr th:only-of-type {\n",
       "        vertical-align: middle;\n",
       "    }\n",
       "\n",
       "    .dataframe tbody tr th {\n",
       "        vertical-align: top;\n",
       "    }\n",
       "\n",
       "    .dataframe thead th {\n",
       "        text-align: right;\n",
       "    }\n",
       "</style>\n",
       "<table border=\"1\" class=\"dataframe\">\n",
       "  <thead>\n",
       "    <tr style=\"text-align: right;\">\n",
       "      <th></th>\n",
       "      <th>AGS-5</th>\n",
       "      <th>Anzahl_PV_Anlagen</th>\n",
       "      <th>Ausländeranteil</th>\n",
       "    </tr>\n",
       "  </thead>\n",
       "  <tbody>\n",
       "    <tr>\n",
       "      <th>0</th>\n",
       "      <td>01001</td>\n",
       "      <td>1252</td>\n",
       "      <td>16.99</td>\n",
       "    </tr>\n",
       "    <tr>\n",
       "      <th>1</th>\n",
       "      <td>01002</td>\n",
       "      <td>1970</td>\n",
       "      <td>12.50</td>\n",
       "    </tr>\n",
       "    <tr>\n",
       "      <th>2</th>\n",
       "      <td>01003</td>\n",
       "      <td>2565</td>\n",
       "      <td>11.21</td>\n",
       "    </tr>\n",
       "  </tbody>\n",
       "</table>\n",
       "</div>"
      ],
      "text/plain": [
       "   AGS-5  Anzahl_PV_Anlagen  Ausländeranteil\n",
       "0  01001               1252            16.99\n",
       "1  01002               1970            12.50\n",
       "2  01003               2565            11.21"
      ]
     },
     "execution_count": 24,
     "metadata": {},
     "output_type": "execute_result"
    }
   ],
   "source": [
    "query_auslaenderanteil = \"\"\"\n",
    "SELECT m.[AGS-5], COUNT(m.[AGS-5]) AS Anzahl_PV_Anlagen, \n",
    "a.[Auslaender_%] AS Ausländeranteil\n",
    "FROM marktstammdaten AS m\n",
    "JOIN auslaenderanteil AS a\n",
    "ON m.[AGS-5] = a.[AGS-5]\n",
    "GROUP BY m.[AGS-5]\n",
    "\"\"\"\n",
    "auslaenderanteil_df = pd.read_sql_query(query_auslaenderanteil, con=con)\n",
    "auslaenderanteil_df.head(3)"
   ]
  },
  {
   "cell_type": "code",
   "execution_count": 25,
   "id": "04ab658a-70ee-44f3-84a8-f11800d9c5f5",
   "metadata": {
    "tags": []
   },
   "outputs": [
    {
     "name": "stdout",
     "output_type": "stream",
     "text": [
      "                            OLS Regression Results                            \n",
      "==============================================================================\n",
      "Dep. Variable:      Anzahl_PV_Anlagen   R-squared:                       0.004\n",
      "Model:                            OLS   Adj. R-squared:                  0.002\n",
      "Method:                 Least Squares   F-statistic:                     1.676\n",
      "Date:                Fri, 19 Apr 2024   Prob (F-statistic):              0.196\n",
      "Time:                        14:51:04   Log-Likelihood:                -4023.0\n",
      "No. Observations:                 400   AIC:                             8050.\n",
      "Df Residuals:                     398   BIC:                             8058.\n",
      "Df Model:                           1                                         \n",
      "Covariance Type:            nonrobust                                         \n",
      "===================================================================================\n",
      "                      coef    std err          t      P>|t|      [0.025      0.975]\n",
      "-----------------------------------------------------------------------------------\n",
      "Intercept        8690.0123    649.898     13.371      0.000    7412.350    9967.674\n",
      "Ausländeranteil   -66.2213     51.147     -1.295      0.196    -166.773      34.331\n",
      "==============================================================================\n",
      "Omnibus:                       92.002   Durbin-Watson:                   1.221\n",
      "Prob(Omnibus):                  0.000   Jarque-Bera (JB):              164.753\n",
      "Skew:                           1.306   Prob(JB):                     1.68e-36\n",
      "Kurtosis:                       4.751   Cond. No.                         29.3\n",
      "==============================================================================\n",
      "\n",
      "Notes:\n",
      "[1] Standard Errors assume that the covariance matrix of the errors is correctly specified.\n"
     ]
    }
   ],
   "source": [
    "model = smf.ols(formula=\"Anzahl_PV_Anlagen ~ Ausländeranteil\", data=auslaenderanteil_df)\n",
    "results = model.fit()\n",
    "print(results.summary())"
   ]
  },
  {
   "cell_type": "markdown",
   "id": "1692413a-df62-48dd-9ca3-7446ea337919",
   "metadata": {},
   "source": [
    "## Bildungsstand: ohne Hauptschulabschluss und / oder ohne Berufsausbildung (2021)"
   ]
  },
  {
   "cell_type": "code",
   "execution_count": 26,
   "id": "913961d5-73cd-4405-a628-e25dabecbb3a",
   "metadata": {
    "tags": []
   },
   "outputs": [
    {
     "data": {
      "text/html": [
       "<div>\n",
       "<style scoped>\n",
       "    .dataframe tbody tr th:only-of-type {\n",
       "        vertical-align: middle;\n",
       "    }\n",
       "\n",
       "    .dataframe tbody tr th {\n",
       "        vertical-align: top;\n",
       "    }\n",
       "\n",
       "    .dataframe thead th {\n",
       "        text-align: right;\n",
       "    }\n",
       "</style>\n",
       "<table border=\"1\" class=\"dataframe\">\n",
       "  <thead>\n",
       "    <tr style=\"text-align: right;\">\n",
       "      <th></th>\n",
       "      <th>AGS-5</th>\n",
       "      <th>Anzahl_PV_Anlagen</th>\n",
       "      <th>ohne_Abschluss</th>\n",
       "    </tr>\n",
       "  </thead>\n",
       "  <tbody>\n",
       "    <tr>\n",
       "      <th>0</th>\n",
       "      <td>01001</td>\n",
       "      <td>1252</td>\n",
       "      <td>22.99</td>\n",
       "    </tr>\n",
       "    <tr>\n",
       "      <th>1</th>\n",
       "      <td>01002</td>\n",
       "      <td>1970</td>\n",
       "      <td>20.75</td>\n",
       "    </tr>\n",
       "    <tr>\n",
       "      <th>2</th>\n",
       "      <td>01003</td>\n",
       "      <td>2565</td>\n",
       "      <td>21.59</td>\n",
       "    </tr>\n",
       "  </tbody>\n",
       "</table>\n",
       "</div>"
      ],
      "text/plain": [
       "   AGS-5  Anzahl_PV_Anlagen  ohne_Abschluss\n",
       "0  01001               1252           22.99\n",
       "1  01002               1970           20.75\n",
       "2  01003               2565           21.59"
      ]
     },
     "execution_count": 26,
     "metadata": {},
     "output_type": "execute_result"
    }
   ],
   "source": [
    "query_bildung1 = \"\"\"\n",
    "SELECT m.[AGS-5], COUNT(m.[AGS-5]) AS Anzahl_PV_Anlagen, \n",
    "(b.bquali_oabschl) + (b.schule_oabschl) AS ohne_Abschluss\n",
    "FROM marktstammdaten AS m\n",
    "JOIN bildung AS b\n",
    "ON m.[AGS-5] = b.[AGS-5]\n",
    "GROUP BY m.[AGS-5]\n",
    "\"\"\"\n",
    "bildung1_df = pd.read_sql_query(query_bildung1, con=con)\n",
    "bildung1_df.head(3)"
   ]
  },
  {
   "cell_type": "code",
   "execution_count": 27,
   "id": "9a2f2336-158b-4e6b-9311-d1ee60df2eaf",
   "metadata": {
    "tags": []
   },
   "outputs": [
    {
     "name": "stdout",
     "output_type": "stream",
     "text": [
      "                            OLS Regression Results                            \n",
      "==============================================================================\n",
      "Dep. Variable:      Anzahl_PV_Anlagen   R-squared:                       0.000\n",
      "Model:                            OLS   Adj. R-squared:                 -0.002\n",
      "Method:                 Least Squares   F-statistic:                   0.04020\n",
      "Date:                Fri, 19 Apr 2024   Prob (F-statistic):              0.841\n",
      "Time:                        14:51:08   Log-Likelihood:                -4023.8\n",
      "No. Observations:                 400   AIC:                             8052.\n",
      "Df Residuals:                     398   BIC:                             8060.\n",
      "Df Model:                           1                                         \n",
      "Covariance Type:            nonrobust                                         \n",
      "==================================================================================\n",
      "                     coef    std err          t      P>|t|      [0.025      0.975]\n",
      "----------------------------------------------------------------------------------\n",
      "Intercept       8274.3542   1728.363      4.787      0.000    4876.491    1.17e+04\n",
      "ohne_Abschluss   -18.3338     91.444     -0.200      0.841    -198.107     161.439\n",
      "==============================================================================\n",
      "Omnibus:                       88.681   Durbin-Watson:                   1.239\n",
      "Prob(Omnibus):                  0.000   Jarque-Bera (JB):              155.994\n",
      "Skew:                           1.270   Prob(JB):                     1.34e-34\n",
      "Kurtosis:                       4.706   Cond. No.                         116.\n",
      "==============================================================================\n",
      "\n",
      "Notes:\n",
      "[1] Standard Errors assume that the covariance matrix of the errors is correctly specified.\n"
     ]
    }
   ],
   "source": [
    "model = smf.ols(formula=\"Anzahl_PV_Anlagen ~ ohne_Abschluss\", data=bildung1_df)\n",
    "results = model.fit()\n",
    "print(results.summary())"
   ]
  },
  {
   "cell_type": "markdown",
   "id": "fca7c14f-c624-4035-a836-e66b4fc00d6c",
   "metadata": {},
   "source": [
    "## Bildungsstand: anerkannter Berufsabschluss und / oder akademischer Abschluss (2021)"
   ]
  },
  {
   "cell_type": "code",
   "execution_count": 28,
   "id": "3b6ac0ad-16e3-42ee-a4d2-a137587db74a",
   "metadata": {
    "tags": []
   },
   "outputs": [
    {
     "data": {
      "text/html": [
       "<div>\n",
       "<style scoped>\n",
       "    .dataframe tbody tr th:only-of-type {\n",
       "        vertical-align: middle;\n",
       "    }\n",
       "\n",
       "    .dataframe tbody tr th {\n",
       "        vertical-align: top;\n",
       "    }\n",
       "\n",
       "    .dataframe thead th {\n",
       "        text-align: right;\n",
       "    }\n",
       "</style>\n",
       "<table border=\"1\" class=\"dataframe\">\n",
       "  <thead>\n",
       "    <tr style=\"text-align: right;\">\n",
       "      <th></th>\n",
       "      <th>AGS-5</th>\n",
       "      <th>Anzahl_PV_Anlagen</th>\n",
       "      <th>mit_Abschluss</th>\n",
       "    </tr>\n",
       "  </thead>\n",
       "  <tbody>\n",
       "    <tr>\n",
       "      <th>0</th>\n",
       "      <td>01001</td>\n",
       "      <td>1252</td>\n",
       "      <td>77.99</td>\n",
       "    </tr>\n",
       "    <tr>\n",
       "      <th>1</th>\n",
       "      <td>01002</td>\n",
       "      <td>1970</td>\n",
       "      <td>79.85</td>\n",
       "    </tr>\n",
       "    <tr>\n",
       "      <th>2</th>\n",
       "      <td>01003</td>\n",
       "      <td>2565</td>\n",
       "      <td>77.66</td>\n",
       "    </tr>\n",
       "  </tbody>\n",
       "</table>\n",
       "</div>"
      ],
      "text/plain": [
       "   AGS-5  Anzahl_PV_Anlagen  mit_Abschluss\n",
       "0  01001               1252          77.99\n",
       "1  01002               1970          79.85\n",
       "2  01003               2565          77.66"
      ]
     },
     "execution_count": 28,
     "metadata": {},
     "output_type": "execute_result"
    }
   ],
   "source": [
    "query_bildung2 = \"\"\"\n",
    "SELECT m.[AGS-5], COUNT(m.[AGS-5]) AS Anzahl_PV_Anlagen, \n",
    "(b.bquali_unifh) + (b.bquali_mabschl) AS mit_Abschluss\n",
    "FROM marktstammdaten AS m\n",
    "JOIN bildung AS b\n",
    "ON m.[AGS-5] = b.[AGS-5]\n",
    "GROUP BY m.[AGS-5]\n",
    "\"\"\"\n",
    "bildung2_df = pd.read_sql_query(query_bildung2, con=con)\n",
    "bildung2_df.head(3)"
   ]
  },
  {
   "cell_type": "code",
   "execution_count": 29,
   "id": "21bbf660-dbe2-4444-8655-5abc7526fa8a",
   "metadata": {
    "tags": []
   },
   "outputs": [
    {
     "name": "stdout",
     "output_type": "stream",
     "text": [
      "                            OLS Regression Results                            \n",
      "==============================================================================\n",
      "Dep. Variable:      Anzahl_PV_Anlagen   R-squared:                       0.038\n",
      "Model:                            OLS   Adj. R-squared:                  0.036\n",
      "Method:                 Least Squares   F-statistic:                     15.85\n",
      "Date:                Fri, 19 Apr 2024   Prob (F-statistic):           8.16e-05\n",
      "Time:                        14:51:11   Log-Likelihood:                -4016.0\n",
      "No. Observations:                 400   AIC:                             8036.\n",
      "Df Residuals:                     398   BIC:                             8044.\n",
      "Df Model:                           1                                         \n",
      "Covariance Type:            nonrobust                                         \n",
      "=================================================================================\n",
      "                    coef    std err          t      P>|t|      [0.025      0.975]\n",
      "---------------------------------------------------------------------------------\n",
      "Intercept      2.889e+04   5271.907      5.480      0.000    1.85e+04    3.93e+04\n",
      "mit_Abschluss  -263.1479     66.103     -3.981      0.000    -393.102    -133.194\n",
      "==============================================================================\n",
      "Omnibus:                       86.045   Durbin-Watson:                   1.276\n",
      "Prob(Omnibus):                  0.000   Jarque-Bera (JB):              152.903\n",
      "Skew:                           1.222   Prob(JB):                     6.27e-34\n",
      "Kurtosis:                       4.789   Cond. No.                     1.51e+03\n",
      "==============================================================================\n",
      "\n",
      "Notes:\n",
      "[1] Standard Errors assume that the covariance matrix of the errors is correctly specified.\n",
      "[2] The condition number is large, 1.51e+03. This might indicate that there are\n",
      "strong multicollinearity or other numerical problems.\n"
     ]
    }
   ],
   "source": [
    "model = smf.ols(formula=\"Anzahl_PV_Anlagen ~ mit_Abschluss\", data=bildung2_df)\n",
    "results = model.fit()\n",
    "print(results.summary())"
   ]
  },
  {
   "cell_type": "markdown",
   "id": "4b4d9a4d-a3fa-4154-b1a1-2f7859db85cf",
   "metadata": {},
   "source": [
    "## E-Ladesäulen pro 100.000 Einwohner"
   ]
  },
  {
   "cell_type": "code",
   "execution_count": 30,
   "id": "4fed70a6-f4b2-4089-a83c-33ad95900437",
   "metadata": {
    "tags": []
   },
   "outputs": [
    {
     "data": {
      "text/html": [
       "<div>\n",
       "<style scoped>\n",
       "    .dataframe tbody tr th:only-of-type {\n",
       "        vertical-align: middle;\n",
       "    }\n",
       "\n",
       "    .dataframe tbody tr th {\n",
       "        vertical-align: top;\n",
       "    }\n",
       "\n",
       "    .dataframe thead th {\n",
       "        text-align: right;\n",
       "    }\n",
       "</style>\n",
       "<table border=\"1\" class=\"dataframe\">\n",
       "  <thead>\n",
       "    <tr style=\"text-align: right;\">\n",
       "      <th></th>\n",
       "      <th>AGS-5</th>\n",
       "      <th>Anzahl_PV_Anlagen</th>\n",
       "      <th>Ladepunkt</th>\n",
       "    </tr>\n",
       "  </thead>\n",
       "  <tbody>\n",
       "    <tr>\n",
       "      <th>0</th>\n",
       "      <td>01001</td>\n",
       "      <td>1252</td>\n",
       "      <td>117.44</td>\n",
       "    </tr>\n",
       "    <tr>\n",
       "      <th>1</th>\n",
       "      <td>01002</td>\n",
       "      <td>1970</td>\n",
       "      <td>99.50</td>\n",
       "    </tr>\n",
       "    <tr>\n",
       "      <th>2</th>\n",
       "      <td>01003</td>\n",
       "      <td>2565</td>\n",
       "      <td>61.96</td>\n",
       "    </tr>\n",
       "  </tbody>\n",
       "</table>\n",
       "</div>"
      ],
      "text/plain": [
       "   AGS-5  Anzahl_PV_Anlagen  Ladepunkt\n",
       "0  01001               1252     117.44\n",
       "1  01002               1970      99.50\n",
       "2  01003               2565      61.96"
      ]
     },
     "execution_count": 30,
     "metadata": {},
     "output_type": "execute_result"
    }
   ],
   "source": [
    "query_ladesaeule = \"\"\"\n",
    "SELECT m.[AGS-5], COUNT(m.[AGS-5]) AS Anzahl_PV_Anlagen, \n",
    "e.eLade AS Ladepunkt\n",
    "FROM marktstammdaten AS m\n",
    "JOIN [e-mobility] AS e\n",
    "ON m.[AGS-5] = e.[AGS-5]\n",
    "GROUP BY m.[AGS-5]\n",
    "\"\"\"\n",
    "ladesaeule_df = pd.read_sql_query(query_ladesaeule, con=con)\n",
    "ladesaeule_df.head(3)"
   ]
  },
  {
   "cell_type": "code",
   "execution_count": 31,
   "id": "2156aef0-200c-4794-a565-0d56964d9817",
   "metadata": {
    "tags": []
   },
   "outputs": [
    {
     "name": "stdout",
     "output_type": "stream",
     "text": [
      "                            OLS Regression Results                            \n",
      "==============================================================================\n",
      "Dep. Variable:      Anzahl_PV_Anlagen   R-squared:                       0.003\n",
      "Model:                            OLS   Adj. R-squared:                  0.000\n",
      "Method:                 Least Squares   F-statistic:                     1.001\n",
      "Date:                Fri, 19 Apr 2024   Prob (F-statistic):              0.318\n",
      "Time:                        14:51:14   Log-Likelihood:                -4023.4\n",
      "No. Observations:                 400   AIC:                             8051.\n",
      "Df Residuals:                     398   BIC:                             8059.\n",
      "Df Model:                           1                                         \n",
      "Covariance Type:            nonrobust                                         \n",
      "==============================================================================\n",
      "                 coef    std err          t      P>|t|      [0.025      0.975]\n",
      "------------------------------------------------------------------------------\n",
      "Intercept   7513.9765    505.130     14.875      0.000    6520.921    8507.032\n",
      "Ladepunkt      4.8424      4.839      1.001      0.318      -4.671      14.356\n",
      "==============================================================================\n",
      "Omnibus:                       86.574   Durbin-Watson:                   1.251\n",
      "Prob(Omnibus):                  0.000   Jarque-Bera (JB):              150.719\n",
      "Skew:                           1.246   Prob(JB):                     1.87e-33\n",
      "Kurtosis:                       4.683   Cond. No.                         186.\n",
      "==============================================================================\n",
      "\n",
      "Notes:\n",
      "[1] Standard Errors assume that the covariance matrix of the errors is correctly specified.\n"
     ]
    }
   ],
   "source": [
    "model = smf.ols(formula=\"Anzahl_PV_Anlagen ~ Ladepunkt\", data=ladesaeule_df)\n",
    "results = model.fit()\n",
    "print(results.summary())"
   ]
  },
  {
   "cell_type": "markdown",
   "id": "54d944f6-865b-4510-be7f-cbbb38343ced",
   "metadata": {},
   "source": [
    "## Anteil E-Autos an allen PkW"
   ]
  },
  {
   "cell_type": "code",
   "execution_count": 32,
   "id": "9a0123c1-331f-4dcf-99a4-83462278531e",
   "metadata": {
    "tags": []
   },
   "outputs": [
    {
     "data": {
      "text/html": [
       "<div>\n",
       "<style scoped>\n",
       "    .dataframe tbody tr th:only-of-type {\n",
       "        vertical-align: middle;\n",
       "    }\n",
       "\n",
       "    .dataframe tbody tr th {\n",
       "        vertical-align: top;\n",
       "    }\n",
       "\n",
       "    .dataframe thead th {\n",
       "        text-align: right;\n",
       "    }\n",
       "</style>\n",
       "<table border=\"1\" class=\"dataframe\">\n",
       "  <thead>\n",
       "    <tr style=\"text-align: right;\">\n",
       "      <th></th>\n",
       "      <th>AGS-5</th>\n",
       "      <th>Anzahl_PV_Anlagen</th>\n",
       "      <th>Anteil_eAuto</th>\n",
       "    </tr>\n",
       "  </thead>\n",
       "  <tbody>\n",
       "    <tr>\n",
       "      <th>0</th>\n",
       "      <td>01001</td>\n",
       "      <td>1252</td>\n",
       "      <td>1.63</td>\n",
       "    </tr>\n",
       "    <tr>\n",
       "      <th>1</th>\n",
       "      <td>01002</td>\n",
       "      <td>1970</td>\n",
       "      <td>1.37</td>\n",
       "    </tr>\n",
       "    <tr>\n",
       "      <th>2</th>\n",
       "      <td>01003</td>\n",
       "      <td>2565</td>\n",
       "      <td>1.15</td>\n",
       "    </tr>\n",
       "  </tbody>\n",
       "</table>\n",
       "</div>"
      ],
      "text/plain": [
       "   AGS-5  Anzahl_PV_Anlagen  Anteil_eAuto\n",
       "0  01001               1252          1.63\n",
       "1  01002               1970          1.37\n",
       "2  01003               2565          1.15"
      ]
     },
     "execution_count": 32,
     "metadata": {},
     "output_type": "execute_result"
    }
   ],
   "source": [
    "query_eauto = \"\"\"\n",
    "SELECT m.[AGS-5], COUNT(m.[AGS-5]) AS Anzahl_PV_Anlagen, \n",
    "e.eauto AS Anteil_eAuto\n",
    "FROM marktstammdaten AS m\n",
    "JOIN [e-mobility] AS e\n",
    "ON m.[AGS-5] = e.[AGS-5]\n",
    "GROUP BY m.[AGS-5]\n",
    "\"\"\"\n",
    "eauto_df = pd.read_sql_query(query_eauto, con=con)\n",
    "eauto_df.head(3)"
   ]
  },
  {
   "cell_type": "code",
   "execution_count": 33,
   "id": "73243309-ae57-40b9-a110-d94f896e99f0",
   "metadata": {
    "tags": []
   },
   "outputs": [
    {
     "name": "stdout",
     "output_type": "stream",
     "text": [
      "                            OLS Regression Results                            \n",
      "==============================================================================\n",
      "Dep. Variable:      Anzahl_PV_Anlagen   R-squared:                       0.020\n",
      "Model:                            OLS   Adj. R-squared:                  0.018\n",
      "Method:                 Least Squares   F-statistic:                     8.167\n",
      "Date:                Fri, 19 Apr 2024   Prob (F-statistic):            0.00449\n",
      "Time:                        14:51:17   Log-Likelihood:                -4019.8\n",
      "No. Observations:                 400   AIC:                             8044.\n",
      "Df Residuals:                     398   BIC:                             8052.\n",
      "Df Model:                           1                                         \n",
      "Covariance Type:            nonrobust                                         \n",
      "================================================================================\n",
      "                   coef    std err          t      P>|t|      [0.025      0.975]\n",
      "--------------------------------------------------------------------------------\n",
      "Intercept     5921.3387    757.660      7.815      0.000    4431.822    7410.856\n",
      "Anteil_eAuto  1681.8399    588.499      2.858      0.004     524.884    2838.796\n",
      "==============================================================================\n",
      "Omnibus:                       81.547   Durbin-Watson:                   1.303\n",
      "Prob(Omnibus):                  0.000   Jarque-Bera (JB):              140.260\n",
      "Skew:                           1.180   Prob(JB):                     3.49e-31\n",
      "Kurtosis:                       4.687   Cond. No.                         5.39\n",
      "==============================================================================\n",
      "\n",
      "Notes:\n",
      "[1] Standard Errors assume that the covariance matrix of the errors is correctly specified.\n"
     ]
    }
   ],
   "source": [
    "model = smf.ols(formula=\"Anzahl_PV_Anlagen ~ Anteil_eAuto\", data=eauto_df)\n",
    "results = model.fit()\n",
    "print(results.summary())"
   ]
  },
  {
   "cell_type": "markdown",
   "id": "4435ba60-5f16-4d0b-8ceb-6f5df611e474",
   "metadata": {},
   "source": [
    "## Anteil fertiggestellter Wohnungen mit primär erneuerbarer Heizenergie"
   ]
  },
  {
   "cell_type": "code",
   "execution_count": 34,
   "id": "70e1430b-e9b2-42d5-8b94-578b0881996e",
   "metadata": {
    "tags": []
   },
   "outputs": [
    {
     "data": {
      "text/html": [
       "<div>\n",
       "<style scoped>\n",
       "    .dataframe tbody tr th:only-of-type {\n",
       "        vertical-align: middle;\n",
       "    }\n",
       "\n",
       "    .dataframe tbody tr th {\n",
       "        vertical-align: top;\n",
       "    }\n",
       "\n",
       "    .dataframe thead th {\n",
       "        text-align: right;\n",
       "    }\n",
       "</style>\n",
       "<table border=\"1\" class=\"dataframe\">\n",
       "  <thead>\n",
       "    <tr style=\"text-align: right;\">\n",
       "      <th></th>\n",
       "      <th>AGS-5</th>\n",
       "      <th>Anzahl_PV_Anlagen</th>\n",
       "      <th>Anteil_Erneuerbare</th>\n",
       "    </tr>\n",
       "  </thead>\n",
       "  <tbody>\n",
       "    <tr>\n",
       "      <th>0</th>\n",
       "      <td>01001</td>\n",
       "      <td>1252</td>\n",
       "      <td>0.3</td>\n",
       "    </tr>\n",
       "    <tr>\n",
       "      <th>1</th>\n",
       "      <td>01002</td>\n",
       "      <td>1970</td>\n",
       "      <td>7.9</td>\n",
       "    </tr>\n",
       "    <tr>\n",
       "      <th>2</th>\n",
       "      <td>01003</td>\n",
       "      <td>2565</td>\n",
       "      <td>24.9</td>\n",
       "    </tr>\n",
       "  </tbody>\n",
       "</table>\n",
       "</div>"
      ],
      "text/plain": [
       "   AGS-5  Anzahl_PV_Anlagen  Anteil_Erneuerbare\n",
       "0  01001               1252                 0.3\n",
       "1  01002               1970                 7.9\n",
       "2  01003               2565                24.9"
      ]
     },
     "execution_count": 34,
     "metadata": {},
     "output_type": "execute_result"
    }
   ],
   "source": [
    "query_heizung = \"\"\"\n",
    "SELECT m.[AGS-5], COUNT(m.[AGS-5]) AS Anzahl_PV_Anlagen, \n",
    "e.[Heizung_Erneuerbare_%] AS Anteil_Erneuerbare\n",
    "FROM marktstammdaten AS m\n",
    "JOIN erneuerbare_energien AS e\n",
    "ON m.[AGS-5] = e.[AGS-5]\n",
    "GROUP BY m.[AGS-5]\n",
    "\"\"\"\n",
    "heizung_df = pd.read_sql_query(query_heizung, con=con)\n",
    "heizung_df.head(3)"
   ]
  },
  {
   "cell_type": "code",
   "execution_count": 35,
   "id": "b9af685d-11a1-4653-af12-06f50b3f0756",
   "metadata": {
    "tags": []
   },
   "outputs": [
    {
     "name": "stdout",
     "output_type": "stream",
     "text": [
      "                            OLS Regression Results                            \n",
      "==============================================================================\n",
      "Dep. Variable:      Anzahl_PV_Anlagen   R-squared:                       0.099\n",
      "Model:                            OLS   Adj. R-squared:                  0.097\n",
      "Method:                 Least Squares   F-statistic:                     43.75\n",
      "Date:                Fri, 19 Apr 2024   Prob (F-statistic):           1.20e-10\n",
      "Time:                        14:51:20   Log-Likelihood:                -4003.0\n",
      "No. Observations:                 400   AIC:                             8010.\n",
      "Df Residuals:                     398   BIC:                             8018.\n",
      "Df Model:                           1                                         \n",
      "Covariance Type:            nonrobust                                         \n",
      "======================================================================================\n",
      "                         coef    std err          t      P>|t|      [0.025      0.975]\n",
      "--------------------------------------------------------------------------------------\n",
      "Intercept           3791.1398    681.515      5.563      0.000    2451.320    5130.960\n",
      "Anteil_Erneuerbare    88.4203     13.368      6.614      0.000      62.140     114.700\n",
      "==============================================================================\n",
      "Omnibus:                      110.404   Durbin-Watson:                   1.369\n",
      "Prob(Omnibus):                  0.000   Jarque-Bera (JB):              246.833\n",
      "Skew:                           1.413   Prob(JB):                     2.52e-54\n",
      "Kurtosis:                       5.613   Cond. No.                         129.\n",
      "==============================================================================\n",
      "\n",
      "Notes:\n",
      "[1] Standard Errors assume that the covariance matrix of the errors is correctly specified.\n"
     ]
    }
   ],
   "source": [
    "model = smf.ols(formula=\"Anzahl_PV_Anlagen ~ Anteil_Erneuerbare\", data=heizung_df)\n",
    "results = model.fit()\n",
    "print(results.summary())"
   ]
  },
  {
   "cell_type": "markdown",
   "id": "d5c09bc5-dc57-4710-a24b-c4c6950a55f3",
   "metadata": {},
   "source": [
    "## Sonnenstunden"
   ]
  },
  {
   "cell_type": "code",
   "execution_count": 36,
   "id": "33ff4e8c-3280-47f4-bb36-bc544cb8979b",
   "metadata": {
    "tags": []
   },
   "outputs": [
    {
     "data": {
      "text/html": [
       "<div>\n",
       "<style scoped>\n",
       "    .dataframe tbody tr th:only-of-type {\n",
       "        vertical-align: middle;\n",
       "    }\n",
       "\n",
       "    .dataframe tbody tr th {\n",
       "        vertical-align: top;\n",
       "    }\n",
       "\n",
       "    .dataframe thead th {\n",
       "        text-align: right;\n",
       "    }\n",
       "</style>\n",
       "<table border=\"1\" class=\"dataframe\">\n",
       "  <thead>\n",
       "    <tr style=\"text-align: right;\">\n",
       "      <th></th>\n",
       "      <th>AGS-5</th>\n",
       "      <th>Anzahl_PV_Anlagen</th>\n",
       "      <th>Sonnenstunden</th>\n",
       "    </tr>\n",
       "  </thead>\n",
       "  <tbody>\n",
       "    <tr>\n",
       "      <th>0</th>\n",
       "      <td>14612</td>\n",
       "      <td>41</td>\n",
       "      <td>1718.1</td>\n",
       "    </tr>\n",
       "    <tr>\n",
       "      <th>1</th>\n",
       "      <td>14612</td>\n",
       "      <td>64</td>\n",
       "      <td>1718.1</td>\n",
       "    </tr>\n",
       "    <tr>\n",
       "      <th>2</th>\n",
       "      <td>14612</td>\n",
       "      <td>60</td>\n",
       "      <td>1718.1</td>\n",
       "    </tr>\n",
       "  </tbody>\n",
       "</table>\n",
       "</div>"
      ],
      "text/plain": [
       "   AGS-5  Anzahl_PV_Anlagen  Sonnenstunden\n",
       "0  14612                 41         1718.1\n",
       "1  14612                 64         1718.1\n",
       "2  14612                 60         1718.1"
      ]
     },
     "execution_count": 36,
     "metadata": {},
     "output_type": "execute_result"
    }
   ],
   "source": [
    "query_sonne = \"\"\"\n",
    "SELECT m.[AGS-5], COUNT(m.[AGS-5]) AS Anzahl_PV_Anlagen, \n",
    "s.Sonnenstunden AS Sonnenstunden\n",
    "FROM marktstammdaten AS m\n",
    "JOIN sonnenstunden_plz AS s\n",
    "ON m.[Postleitzahl] = s.[Postleitzahl]\n",
    "GROUP BY m.[Postleitzahl]\n",
    "\"\"\"\n",
    "sonne_df = pd.read_sql_query(query_sonne, con=con)\n",
    "sonne_df.head(3)"
   ]
  },
  {
   "cell_type": "code",
   "execution_count": 37,
   "id": "b34638f0-65eb-4157-9922-ada988959abd",
   "metadata": {
    "tags": []
   },
   "outputs": [
    {
     "name": "stdout",
     "output_type": "stream",
     "text": [
      "                            OLS Regression Results                            \n",
      "==============================================================================\n",
      "Dep. Variable:      Anzahl_PV_Anlagen   R-squared:                       0.001\n",
      "Model:                            OLS   Adj. R-squared:                  0.001\n",
      "Method:                 Least Squares   F-statistic:                     7.952\n",
      "Date:                Fri, 19 Apr 2024   Prob (F-statistic):            0.00482\n",
      "Time:                        14:51:23   Log-Likelihood:                -59513.\n",
      "No. Observations:                8160   AIC:                         1.190e+05\n",
      "Df Residuals:                    8158   BIC:                         1.190e+05\n",
      "Df Model:                           1                                         \n",
      "Covariance Type:            nonrobust                                         \n",
      "=================================================================================\n",
      "                    coef    std err          t      P>|t|      [0.025      0.975]\n",
      "---------------------------------------------------------------------------------\n",
      "Intercept       614.5242     80.128      7.669      0.000     457.453     771.595\n",
      "Sonnenstunden    -0.1349      0.048     -2.820      0.005      -0.229      -0.041\n",
      "==============================================================================\n",
      "Omnibus:                     3956.777   Durbin-Watson:                   0.844\n",
      "Prob(Omnibus):                  0.000   Jarque-Bera (JB):            28336.200\n",
      "Skew:                           2.221   Prob(JB):                         0.00\n",
      "Kurtosis:                      10.976   Cond. No.                     3.41e+04\n",
      "==============================================================================\n",
      "\n",
      "Notes:\n",
      "[1] Standard Errors assume that the covariance matrix of the errors is correctly specified.\n",
      "[2] The condition number is large, 3.41e+04. This might indicate that there are\n",
      "strong multicollinearity or other numerical problems.\n"
     ]
    }
   ],
   "source": [
    "model = smf.ols(formula=\"Anzahl_PV_Anlagen ~ Sonnenstunden\", data=sonne_df)\n",
    "results = model.fit()\n",
    "print(results.summary())"
   ]
  },
  {
   "cell_type": "markdown",
   "id": "150f7f02-76e5-4198-8b3e-835a5af951c9",
   "metadata": {},
   "source": [
    "**Ergebnisse**   \n",
    "Keine der betrachteten möglichen Einflussfaktoren hat für sich genommen einen sehr hohen Impact auf die Anzahl    \n",
    "der Installierten PV-Anlagen in der jeweiligen Region.    \n",
    "   \n",
    "**Die höchsten R-squared Werte mit über 5% erreichten:**       \n",
    "Anteil fertiggestellter Wohnungen mit primär erneuerbarer Heizenergie (R-squared 0.099)   \n",
    "Eigenheimquote (R-squared 0.080) \n",
    "\"Grüne\"-Wähler bei der Bundestagswahl 2021 (R-squared 0.070)  \n",
    "Bevölkerungsdichte (R-squared 0.070)\n",
    "Durchschnittliches verfügbares Einkommen (R-squared 0.062)   \n",
    "    \n",
    "Die Arbeitslosenquote könnte relevant sein (R-squared 0.378). Da die Betrachtung sich jedoch nur auf 16 Werte für die einzelnen Bundesländer bezieht, ist das Ergebnis nicht aussagekräftig."
   ]
  },
  {
   "cell_type": "markdown",
   "id": "34ba686a-c87e-4534-ab7a-b0623b8a9c78",
   "metadata": {},
   "source": [
    "# OLS-Regression - Betrachtung kombinierter Faktoren"
   ]
  },
  {
   "cell_type": "markdown",
   "id": "4da62c5f-c80b-47e6-87ff-4aa288e1fae8",
   "metadata": {},
   "source": [
    "## Eigentumsquote + Bevölkerungsdichte"
   ]
  },
  {
   "cell_type": "code",
   "execution_count": 38,
   "id": "b3b296a1-18ff-4ded-a4df-4569fcc79b49",
   "metadata": {
    "tags": []
   },
   "outputs": [
    {
     "data": {
      "text/html": [
       "<div>\n",
       "<style scoped>\n",
       "    .dataframe tbody tr th:only-of-type {\n",
       "        vertical-align: middle;\n",
       "    }\n",
       "\n",
       "    .dataframe tbody tr th {\n",
       "        vertical-align: top;\n",
       "    }\n",
       "\n",
       "    .dataframe thead th {\n",
       "        text-align: right;\n",
       "    }\n",
       "</style>\n",
       "<table border=\"1\" class=\"dataframe\">\n",
       "  <thead>\n",
       "    <tr style=\"text-align: right;\">\n",
       "      <th></th>\n",
       "      <th>AGS-5</th>\n",
       "      <th>AGS-8</th>\n",
       "      <th>Anzahl_PV_Anlagen</th>\n",
       "      <th>Eigentumsquote</th>\n",
       "      <th>Bevoelkerungsdichte</th>\n",
       "    </tr>\n",
       "  </thead>\n",
       "  <tbody>\n",
       "    <tr>\n",
       "      <th>0</th>\n",
       "      <td>01001</td>\n",
       "      <td>01001000</td>\n",
       "      <td>1252</td>\n",
       "      <td>48.2</td>\n",
       "      <td>1606.0</td>\n",
       "    </tr>\n",
       "    <tr>\n",
       "      <th>1</th>\n",
       "      <td>01002</td>\n",
       "      <td>01002000</td>\n",
       "      <td>1970</td>\n",
       "      <td>44.6</td>\n",
       "      <td>2075.0</td>\n",
       "    </tr>\n",
       "    <tr>\n",
       "      <th>2</th>\n",
       "      <td>01003</td>\n",
       "      <td>01003000</td>\n",
       "      <td>2565</td>\n",
       "      <td>49.4</td>\n",
       "      <td>1010.0</td>\n",
       "    </tr>\n",
       "  </tbody>\n",
       "</table>\n",
       "</div>"
      ],
      "text/plain": [
       "   AGS-5     AGS-8  Anzahl_PV_Anlagen  Eigentumsquote  Bevoelkerungsdichte\n",
       "0  01001  01001000               1252            48.2               1606.0\n",
       "1  01002  01002000               1970            44.6               2075.0\n",
       "2  01003  01003000               2565            49.4               1010.0"
      ]
     },
     "execution_count": 38,
     "metadata": {},
     "output_type": "execute_result"
    }
   ],
   "source": [
    "query_div1 = \"\"\"\n",
    "SELECT m.[AGS-5], m.[AGS-8], COUNT(m.[AGS-8]) AS Anzahl_PV_Anlagen, \n",
    "e.[Eigentum_%] AS Eigentumsquote, \n",
    "b.[Bevölkerung pro km2] AS Bevoelkerungsdichte\n",
    "FROM marktstammdaten AS m\n",
    "JOIN eigenheimquote AS e\n",
    "ON m.[AGS-8] = e.[AGS-8]\n",
    "JOIN bevoelkerungsdichte AS b\n",
    "ON m.[AGS-5] = b.[AGS-5]\n",
    "GROUP BY m.[AGS-8], e.[Eigentum_%]\n",
    "\"\"\"\n",
    "div1_df = pd.read_sql_query(query_div1, con=con)\n",
    "div1_df.head(3)"
   ]
  },
  {
   "cell_type": "code",
   "execution_count": 39,
   "id": "b1a83b77-c234-47e6-8cfd-d786fb6d1d81",
   "metadata": {
    "tags": []
   },
   "outputs": [
    {
     "name": "stdout",
     "output_type": "stream",
     "text": [
      "                            OLS Regression Results                            \n",
      "==============================================================================\n",
      "Dep. Variable:      Anzahl_PV_Anlagen   R-squared:                       0.391\n",
      "Model:                            OLS   Adj. R-squared:                  0.391\n",
      "Method:                 Least Squares   F-statistic:                     3571.\n",
      "Date:                Fri, 19 Apr 2024   Prob (F-statistic):               0.00\n",
      "Time:                        14:51:28   Log-Likelihood:                -82531.\n",
      "No. Observations:               11107   AIC:                         1.651e+05\n",
      "Df Residuals:                   11104   BIC:                         1.651e+05\n",
      "Df Model:                           2                                         \n",
      "Covariance Type:            nonrobust                                         \n",
      "=======================================================================================\n",
      "                          coef    std err          t      P>|t|      [0.025      0.975]\n",
      "---------------------------------------------------------------------------------------\n",
      "Intercept             418.9541     22.182     18.887      0.000     375.474     462.434\n",
      "Eigentumsquote         -5.0825      0.261    -19.453      0.000      -5.595      -4.570\n",
      "Bevoelkerungsdichte     1.5029      0.020     75.424      0.000       1.464       1.542\n",
      "==============================================================================\n",
      "Omnibus:                    14438.289   Durbin-Watson:                   1.185\n",
      "Prob(Omnibus):                  0.000   Jarque-Bera (JB):         13537592.683\n",
      "Skew:                           6.631   Prob(JB):                         0.00\n",
      "Kurtosis:                     173.517   Cond. No.                     1.57e+03\n",
      "==============================================================================\n",
      "\n",
      "Notes:\n",
      "[1] Standard Errors assume that the covariance matrix of the errors is correctly specified.\n",
      "[2] The condition number is large, 1.57e+03. This might indicate that there are\n",
      "strong multicollinearity or other numerical problems.\n"
     ]
    }
   ],
   "source": [
    "model = smf.ols(formula=\"Anzahl_PV_Anlagen ~ Eigentumsquote + Bevoelkerungsdichte\", data=div1_df)\n",
    "results = model.fit()\n",
    "print(results.summary())"
   ]
  },
  {
   "cell_type": "markdown",
   "id": "876541d1-d874-433f-9160-a39be6a707c2",
   "metadata": {
    "tags": []
   },
   "source": [
    "## Strompreise + Einspeisevergütung"
   ]
  },
  {
   "cell_type": "code",
   "execution_count": 40,
   "id": "a43bba21-606e-46c1-be83-72b7c0ee7355",
   "metadata": {
    "tags": []
   },
   "outputs": [],
   "source": [
    "query_div2 = \"\"\"\n",
    "SELECT marktstammdaten.[Inbetriebnahmedatum], \n",
    "       COUNT(marktstammdaten.[Inbetriebnahmedatum]) AS Anzahl_PV_Anlagen,\n",
    "       strompreis.[Strom_Verbraucherpreis], \n",
    "       [Einspeiseverguetung_kleine_PV_Anlagen]\n",
    "FROM marktstammdaten\n",
    "LEFT JOIN strompreis\n",
    "ON strftime('%Y', marktstammdaten.[Inbetriebnahmedatum]) = strompreis.[Jahr]\n",
    "LEFT JOIN einspeiseverguetung\n",
    "ON marktstammdaten.Inbetriebnahmedatum = einspeiseverguetung.Datum\n",
    "\n",
    "GROUP BY marktstammdaten.[Inbetriebnahmedatum];\n",
    "\"\"\"\n",
    "div2_df = pd.read_sql_query(query_div2, con=con)\n",
    "#div2_df"
   ]
  },
  {
   "cell_type": "code",
   "execution_count": 41,
   "id": "7e2355b2-7d03-47e7-b130-f585c5304c96",
   "metadata": {
    "tags": []
   },
   "outputs": [
    {
     "data": {
      "text/html": [
       "<div>\n",
       "<style scoped>\n",
       "    .dataframe tbody tr th:only-of-type {\n",
       "        vertical-align: middle;\n",
       "    }\n",
       "\n",
       "    .dataframe tbody tr th {\n",
       "        vertical-align: top;\n",
       "    }\n",
       "\n",
       "    .dataframe thead th {\n",
       "        text-align: right;\n",
       "    }\n",
       "</style>\n",
       "<table border=\"1\" class=\"dataframe\">\n",
       "  <thead>\n",
       "    <tr style=\"text-align: right;\">\n",
       "      <th></th>\n",
       "      <th>Inbetriebnahmedatum</th>\n",
       "      <th>Anzahl_PV_Anlagen</th>\n",
       "      <th>Strom_Verbraucherpreis</th>\n",
       "      <th>Einspeiseverguetung_kleine_PV_Anlagen</th>\n",
       "    </tr>\n",
       "  </thead>\n",
       "  <tbody>\n",
       "    <tr>\n",
       "      <th>0</th>\n",
       "      <td>1900-01-01 00:00:00</td>\n",
       "      <td>10</td>\n",
       "      <td>NaN</td>\n",
       "      <td>NaN</td>\n",
       "    </tr>\n",
       "    <tr>\n",
       "      <th>1</th>\n",
       "      <td>1900-02-24 00:00:00</td>\n",
       "      <td>1</td>\n",
       "      <td>NaN</td>\n",
       "      <td>NaN</td>\n",
       "    </tr>\n",
       "    <tr>\n",
       "      <th>2</th>\n",
       "      <td>1900-04-22 00:00:00</td>\n",
       "      <td>1</td>\n",
       "      <td>NaN</td>\n",
       "      <td>NaN</td>\n",
       "    </tr>\n",
       "    <tr>\n",
       "      <th>3</th>\n",
       "      <td>1904-04-13 00:00:00</td>\n",
       "      <td>1</td>\n",
       "      <td>NaN</td>\n",
       "      <td>NaN</td>\n",
       "    </tr>\n",
       "    <tr>\n",
       "      <th>4</th>\n",
       "      <td>1905-11-08 00:00:00</td>\n",
       "      <td>1</td>\n",
       "      <td>NaN</td>\n",
       "      <td>NaN</td>\n",
       "    </tr>\n",
       "    <tr>\n",
       "      <th>...</th>\n",
       "      <td>...</td>\n",
       "      <td>...</td>\n",
       "      <td>...</td>\n",
       "      <td>...</td>\n",
       "    </tr>\n",
       "    <tr>\n",
       "      <th>11340</th>\n",
       "      <td>2023-06-27 00:00:00</td>\n",
       "      <td>2654</td>\n",
       "      <td>46.27</td>\n",
       "      <td>7.65</td>\n",
       "    </tr>\n",
       "    <tr>\n",
       "      <th>11341</th>\n",
       "      <td>2023-06-28 00:00:00</td>\n",
       "      <td>2475</td>\n",
       "      <td>46.27</td>\n",
       "      <td>7.65</td>\n",
       "    </tr>\n",
       "    <tr>\n",
       "      <th>11342</th>\n",
       "      <td>2023-06-29 00:00:00</td>\n",
       "      <td>2017</td>\n",
       "      <td>46.27</td>\n",
       "      <td>7.65</td>\n",
       "    </tr>\n",
       "    <tr>\n",
       "      <th>11343</th>\n",
       "      <td>2023-06-30 00:00:00</td>\n",
       "      <td>1542</td>\n",
       "      <td>46.27</td>\n",
       "      <td>7.65</td>\n",
       "    </tr>\n",
       "    <tr>\n",
       "      <th>11344</th>\n",
       "      <td>2023-07-01 00:00:00</td>\n",
       "      <td>7</td>\n",
       "      <td>46.27</td>\n",
       "      <td>7.65</td>\n",
       "    </tr>\n",
       "  </tbody>\n",
       "</table>\n",
       "<p>11345 rows × 4 columns</p>\n",
       "</div>"
      ],
      "text/plain": [
       "       Inbetriebnahmedatum  Anzahl_PV_Anlagen  Strom_Verbraucherpreis  \\\n",
       "0      1900-01-01 00:00:00                 10                     NaN   \n",
       "1      1900-02-24 00:00:00                  1                     NaN   \n",
       "2      1900-04-22 00:00:00                  1                     NaN   \n",
       "3      1904-04-13 00:00:00                  1                     NaN   \n",
       "4      1905-11-08 00:00:00                  1                     NaN   \n",
       "...                    ...                ...                     ...   \n",
       "11340  2023-06-27 00:00:00               2654                   46.27   \n",
       "11341  2023-06-28 00:00:00               2475                   46.27   \n",
       "11342  2023-06-29 00:00:00               2017                   46.27   \n",
       "11343  2023-06-30 00:00:00               1542                   46.27   \n",
       "11344  2023-07-01 00:00:00                  7                   46.27   \n",
       "\n",
       "       Einspeiseverguetung_kleine_PV_Anlagen  \n",
       "0                                        NaN  \n",
       "1                                        NaN  \n",
       "2                                        NaN  \n",
       "3                                        NaN  \n",
       "4                                        NaN  \n",
       "...                                      ...  \n",
       "11340                                   7.65  \n",
       "11341                                   7.65  \n",
       "11342                                   7.65  \n",
       "11343                                   7.65  \n",
       "11344                                   7.65  \n",
       "\n",
       "[11345 rows x 4 columns]"
      ]
     },
     "execution_count": 41,
     "metadata": {},
     "output_type": "execute_result"
    }
   ],
   "source": [
    "# fehlenden Werte in Einspeiseverguetung_kleine_PV_Anlagen mit dem vorherigen Wert auffüllen\n",
    "div2_df['Einspeiseverguetung_kleine_PV_Anlagen'].fillna(method='ffill', inplace=True)\n",
    "div2_df"
   ]
  },
  {
   "cell_type": "code",
   "execution_count": 42,
   "id": "6ba49232-b56c-4200-9ab7-5b7b30f9ed9f",
   "metadata": {
    "tags": []
   },
   "outputs": [
    {
     "name": "stdout",
     "output_type": "stream",
     "text": [
      "                            OLS Regression Results                            \n",
      "==============================================================================\n",
      "Dep. Variable:      Anzahl_PV_Anlagen   R-squared:                       0.337\n",
      "Model:                            OLS   Adj. R-squared:                  0.336\n",
      "Method:                 Least Squares   F-statistic:                     2159.\n",
      "Date:                Fri, 19 Apr 2024   Prob (F-statistic):               0.00\n",
      "Time:                        14:51:33   Log-Likelihood:                -65759.\n",
      "No. Observations:                8514   AIC:                         1.315e+05\n",
      "Df Residuals:                    8511   BIC:                         1.315e+05\n",
      "Df Model:                           2                                         \n",
      "Covariance Type:            nonrobust                                         \n",
      "=========================================================================================================\n",
      "                                            coef    std err          t      P>|t|      [0.025      0.975]\n",
      "---------------------------------------------------------------------------------------------------------\n",
      "Intercept                             -3508.4136     70.839    -49.527      0.000   -3647.275   -3369.552\n",
      "Strom_Verbraucherpreis                  118.2114      1.995     59.267      0.000     114.302     122.121\n",
      "Einspeiseverguetung_kleine_PV_Anlagen    31.2173      0.751     41.589      0.000      29.746      32.689\n",
      "==============================================================================\n",
      "Omnibus:                    12461.055   Durbin-Watson:                   0.773\n",
      "Prob(Omnibus):                  0.000   Jarque-Bera (JB):         12037065.613\n",
      "Skew:                           8.455   Prob(JB):                         0.00\n",
      "Kurtosis:                     186.426   Cond. No.                         481.\n",
      "==============================================================================\n",
      "\n",
      "Notes:\n",
      "[1] Standard Errors assume that the covariance matrix of the errors is correctly specified.\n"
     ]
    }
   ],
   "source": [
    "model = smf.ols(formula=\"Anzahl_PV_Anlagen ~ Strom_Verbraucherpreis + Einspeiseverguetung_kleine_PV_Anlagen\", data=div2_df)\n",
    "results = model.fit()\n",
    "print(results.summary())"
   ]
  },
  {
   "cell_type": "markdown",
   "id": "334046db-9928-49b8-9268-2ff0681d10f0",
   "metadata": {},
   "source": [
    "## Strompreis + Einspeiseverguetung + Fukushima + Solardeckel "
   ]
  },
  {
   "cell_type": "code",
   "execution_count": 43,
   "id": "23091a4f-eb6f-4ca6-a466-b2dec6cc9c1d",
   "metadata": {
    "tags": []
   },
   "outputs": [
    {
     "data": {
      "text/html": [
       "<div>\n",
       "<style scoped>\n",
       "    .dataframe tbody tr th:only-of-type {\n",
       "        vertical-align: middle;\n",
       "    }\n",
       "\n",
       "    .dataframe tbody tr th {\n",
       "        vertical-align: top;\n",
       "    }\n",
       "\n",
       "    .dataframe thead th {\n",
       "        text-align: right;\n",
       "    }\n",
       "</style>\n",
       "<table border=\"1\" class=\"dataframe\">\n",
       "  <thead>\n",
       "    <tr style=\"text-align: right;\">\n",
       "      <th></th>\n",
       "      <th>GesamtBruttoleistung</th>\n",
       "      <th>Anzahl_Volleinspeisung</th>\n",
       "      <th>Anzahl_Teileinspeisung</th>\n",
       "      <th>Einspeiseverguetung</th>\n",
       "      <th>Strompreis</th>\n",
       "      <th>PV_Kosten_Euro_pro_kWp</th>\n",
       "      <th>Fukushima</th>\n",
       "      <th>Ukrainekrieg</th>\n",
       "      <th>Solardeckel</th>\n",
       "    </tr>\n",
       "    <tr>\n",
       "      <th>Jahr_Monat</th>\n",
       "      <th></th>\n",
       "      <th></th>\n",
       "      <th></th>\n",
       "      <th></th>\n",
       "      <th></th>\n",
       "      <th></th>\n",
       "      <th></th>\n",
       "      <th></th>\n",
       "      <th></th>\n",
       "    </tr>\n",
       "  </thead>\n",
       "  <tbody>\n",
       "    <tr>\n",
       "      <th>2000-01-01</th>\n",
       "      <td>42308.897</td>\n",
       "      <td>6944</td>\n",
       "      <td>2620</td>\n",
       "      <td>50.62</td>\n",
       "      <td>14.92</td>\n",
       "      <td>8100</td>\n",
       "      <td>0</td>\n",
       "      <td>0</td>\n",
       "      <td>0</td>\n",
       "    </tr>\n",
       "    <tr>\n",
       "      <th>2000-02-01</th>\n",
       "      <td>757.749</td>\n",
       "      <td>99</td>\n",
       "      <td>25</td>\n",
       "      <td>50.62</td>\n",
       "      <td>14.92</td>\n",
       "      <td>8100</td>\n",
       "      <td>0</td>\n",
       "      <td>0</td>\n",
       "      <td>0</td>\n",
       "    </tr>\n",
       "    <tr>\n",
       "      <th>2000-03-01</th>\n",
       "      <td>698.163</td>\n",
       "      <td>163</td>\n",
       "      <td>21</td>\n",
       "      <td>50.62</td>\n",
       "      <td>14.92</td>\n",
       "      <td>8100</td>\n",
       "      <td>0</td>\n",
       "      <td>0</td>\n",
       "      <td>0</td>\n",
       "    </tr>\n",
       "    <tr>\n",
       "      <th>2000-04-01</th>\n",
       "      <td>3479.965</td>\n",
       "      <td>871</td>\n",
       "      <td>153</td>\n",
       "      <td>50.62</td>\n",
       "      <td>14.92</td>\n",
       "      <td>8100</td>\n",
       "      <td>0</td>\n",
       "      <td>0</td>\n",
       "      <td>0</td>\n",
       "    </tr>\n",
       "    <tr>\n",
       "      <th>2000-05-01</th>\n",
       "      <td>3285.015</td>\n",
       "      <td>709</td>\n",
       "      <td>162</td>\n",
       "      <td>50.62</td>\n",
       "      <td>14.92</td>\n",
       "      <td>8100</td>\n",
       "      <td>0</td>\n",
       "      <td>0</td>\n",
       "      <td>0</td>\n",
       "    </tr>\n",
       "    <tr>\n",
       "      <th>...</th>\n",
       "      <td>...</td>\n",
       "      <td>...</td>\n",
       "      <td>...</td>\n",
       "      <td>...</td>\n",
       "      <td>...</td>\n",
       "      <td>...</td>\n",
       "      <td>...</td>\n",
       "      <td>...</td>\n",
       "      <td>...</td>\n",
       "    </tr>\n",
       "    <tr>\n",
       "      <th>2023-08-01</th>\n",
       "      <td>2304090.367</td>\n",
       "      <td>3807</td>\n",
       "      <td>98267</td>\n",
       "      <td>7.65</td>\n",
       "      <td>46.27</td>\n",
       "      <td>1250</td>\n",
       "      <td>0</td>\n",
       "      <td>0</td>\n",
       "      <td>0</td>\n",
       "    </tr>\n",
       "    <tr>\n",
       "      <th>2023-09-01</th>\n",
       "      <td>1358857.379</td>\n",
       "      <td>3443</td>\n",
       "      <td>89448</td>\n",
       "      <td>7.65</td>\n",
       "      <td>46.27</td>\n",
       "      <td>1250</td>\n",
       "      <td>0</td>\n",
       "      <td>0</td>\n",
       "      <td>0</td>\n",
       "    </tr>\n",
       "    <tr>\n",
       "      <th>2023-10-01</th>\n",
       "      <td>2101186.830</td>\n",
       "      <td>3008</td>\n",
       "      <td>77553</td>\n",
       "      <td>7.65</td>\n",
       "      <td>46.27</td>\n",
       "      <td>1250</td>\n",
       "      <td>0</td>\n",
       "      <td>0</td>\n",
       "      <td>0</td>\n",
       "    </tr>\n",
       "    <tr>\n",
       "      <th>2023-11-01</th>\n",
       "      <td>1581038.041</td>\n",
       "      <td>2221</td>\n",
       "      <td>66049</td>\n",
       "      <td>7.65</td>\n",
       "      <td>46.27</td>\n",
       "      <td>1250</td>\n",
       "      <td>0</td>\n",
       "      <td>0</td>\n",
       "      <td>0</td>\n",
       "    </tr>\n",
       "    <tr>\n",
       "      <th>2023-12-01</th>\n",
       "      <td>1162517.318</td>\n",
       "      <td>1597</td>\n",
       "      <td>36900</td>\n",
       "      <td>7.65</td>\n",
       "      <td>46.27</td>\n",
       "      <td>1250</td>\n",
       "      <td>0</td>\n",
       "      <td>0</td>\n",
       "      <td>0</td>\n",
       "    </tr>\n",
       "  </tbody>\n",
       "</table>\n",
       "<p>288 rows × 9 columns</p>\n",
       "</div>"
      ],
      "text/plain": [
       "            GesamtBruttoleistung  Anzahl_Volleinspeisung  \\\n",
       "Jahr_Monat                                                 \n",
       "2000-01-01             42308.897                    6944   \n",
       "2000-02-01               757.749                      99   \n",
       "2000-03-01               698.163                     163   \n",
       "2000-04-01              3479.965                     871   \n",
       "2000-05-01              3285.015                     709   \n",
       "...                          ...                     ...   \n",
       "2023-08-01           2304090.367                    3807   \n",
       "2023-09-01           1358857.379                    3443   \n",
       "2023-10-01           2101186.830                    3008   \n",
       "2023-11-01           1581038.041                    2221   \n",
       "2023-12-01           1162517.318                    1597   \n",
       "\n",
       "            Anzahl_Teileinspeisung  Einspeiseverguetung  Strompreis  \\\n",
       "Jahr_Monat                                                            \n",
       "2000-01-01                    2620                50.62       14.92   \n",
       "2000-02-01                      25                50.62       14.92   \n",
       "2000-03-01                      21                50.62       14.92   \n",
       "2000-04-01                     153                50.62       14.92   \n",
       "2000-05-01                     162                50.62       14.92   \n",
       "...                            ...                  ...         ...   \n",
       "2023-08-01                   98267                 7.65       46.27   \n",
       "2023-09-01                   89448                 7.65       46.27   \n",
       "2023-10-01                   77553                 7.65       46.27   \n",
       "2023-11-01                   66049                 7.65       46.27   \n",
       "2023-12-01                   36900                 7.65       46.27   \n",
       "\n",
       "            PV_Kosten_Euro_pro_kWp  Fukushima  Ukrainekrieg  Solardeckel  \n",
       "Jahr_Monat                                                                \n",
       "2000-01-01                    8100          0             0            0  \n",
       "2000-02-01                    8100          0             0            0  \n",
       "2000-03-01                    8100          0             0            0  \n",
       "2000-04-01                    8100          0             0            0  \n",
       "2000-05-01                    8100          0             0            0  \n",
       "...                            ...        ...           ...          ...  \n",
       "2023-08-01                    1250          0             0            0  \n",
       "2023-09-01                    1250          0             0            0  \n",
       "2023-10-01                    1250          0             0            0  \n",
       "2023-11-01                    1250          0             0            0  \n",
       "2023-12-01                    1250          0             0            0  \n",
       "\n",
       "[288 rows x 9 columns]"
      ]
     },
     "execution_count": 43,
     "metadata": {},
     "output_type": "execute_result"
    }
   ],
   "source": [
    "# timeseries_df Tabelle öffnen\n",
    "with open('timeseries_df.pkl', 'rb') as f:\n",
    "    timeseries_df = pickle.load(f)\n",
    "timeseries_df"
   ]
  },
  {
   "cell_type": "code",
   "execution_count": 44,
   "id": "05b0091f-6f6d-4eaa-8007-7f4d8b8ce864",
   "metadata": {
    "tags": []
   },
   "outputs": [
    {
     "name": "stdout",
     "output_type": "stream",
     "text": [
      "                             OLS Regression Results                             \n",
      "================================================================================\n",
      "Dep. Variable:     GesamtBruttoleistung   R-squared:                       0.437\n",
      "Model:                              OLS   Adj. R-squared:                  0.429\n",
      "Method:                   Least Squares   F-statistic:                     55.01\n",
      "Date:                  Fri, 19 Apr 2024   Prob (F-statistic):           2.82e-34\n",
      "Time:                          14:51:33   Log-Likelihood:                -4084.4\n",
      "No. Observations:                   288   AIC:                             8179.\n",
      "Df Residuals:                       283   BIC:                             8197.\n",
      "Df Model:                             4                                         \n",
      "Covariance Type:              nonrobust                                         \n",
      "=======================================================================================\n",
      "                          coef    std err          t      P>|t|      [0.025      0.975]\n",
      "---------------------------------------------------------------------------------------\n",
      "Intercept           -1.308e+06   3.03e+05     -4.317      0.000    -1.9e+06   -7.12e+05\n",
      "Strompreis           5.573e+04   7304.990      7.629      0.000    4.13e+04    7.01e+04\n",
      "Einspeiseverguetung  8107.7092   3604.514      2.249      0.025    1012.649    1.52e+04\n",
      "Fukushima            4.658e+05   1.17e+05      3.993      0.000    2.36e+05    6.95e+05\n",
      "Solardeckel         -1.724e+05   7.14e+04     -2.416      0.016   -3.13e+05   -3.19e+04\n",
      "==============================================================================\n",
      "Omnibus:                      337.050   Durbin-Watson:                   1.832\n",
      "Prob(Omnibus):                  0.000   Jarque-Bera (JB):            15931.643\n",
      "Skew:                           5.199   Prob(JB):                         0.00\n",
      "Kurtosis:                      37.922   Cond. No.                         597.\n",
      "==============================================================================\n",
      "\n",
      "Notes:\n",
      "[1] Standard Errors assume that the covariance matrix of the errors is correctly specified.\n"
     ]
    }
   ],
   "source": [
    "model = smf.ols(formula=\"GesamtBruttoleistung ~ Strompreis + Einspeiseverguetung + Fukushima + Solardeckel\", data=timeseries_df)\n",
    "results = model.fit()\n",
    "print(results.summary())"
   ]
  },
  {
   "cell_type": "code",
   "execution_count": 45,
   "id": "5aff60db-1921-4c8c-baba-02a56cfb3770",
   "metadata": {
    "tags": []
   },
   "outputs": [],
   "source": [
    "# Verbindung zur Datenbank trennen\n",
    "con.close()"
   ]
  }
 ],
 "metadata": {
  "kernelspec": {
   "display_name": "Python 3 (ipykernel)",
   "language": "python",
   "name": "python3"
  },
  "language_info": {
   "codemirror_mode": {
    "name": "ipython",
    "version": 3
   },
   "file_extension": ".py",
   "mimetype": "text/x-python",
   "name": "python",
   "nbconvert_exporter": "python",
   "pygments_lexer": "ipython3",
   "version": "3.9.18"
  }
 },
 "nbformat": 4,
 "nbformat_minor": 5
}
